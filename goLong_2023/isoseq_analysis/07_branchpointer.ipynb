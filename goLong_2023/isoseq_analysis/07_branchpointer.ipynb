{
 "cells": [
  {
   "cell_type": "code",
   "execution_count": 1,
   "metadata": {
    "tags": []
   },
   "outputs": [
    {
     "name": "stderr",
     "output_type": "stream",
     "text": [
      "Loading required package: BSgenome\n",
      "\n",
      "Loading required package: BiocGenerics\n",
      "\n",
      "Loading required package: parallel\n",
      "\n",
      "\n",
      "Attaching package: ‘BiocGenerics’\n",
      "\n",
      "\n",
      "The following objects are masked from ‘package:parallel’:\n",
      "\n",
      "    clusterApply, clusterApplyLB, clusterCall, clusterEvalQ,\n",
      "    clusterExport, clusterMap, parApply, parCapply, parLapply,\n",
      "    parLapplyLB, parRapply, parSapply, parSapplyLB\n",
      "\n",
      "\n",
      "The following objects are masked from ‘package:stats’:\n",
      "\n",
      "    IQR, mad, sd, var, xtabs\n",
      "\n",
      "\n",
      "The following objects are masked from ‘package:base’:\n",
      "\n",
      "    Filter, Find, Map, Position, Reduce, anyDuplicated, append,\n",
      "    as.data.frame, basename, cbind, colnames, dirname, do.call,\n",
      "    duplicated, eval, evalq, get, grep, grepl, intersect, is.unsorted,\n",
      "    lapply, mapply, match, mget, order, paste, pmax, pmax.int, pmin,\n",
      "    pmin.int, rank, rbind, rownames, sapply, setdiff, sort, table,\n",
      "    tapply, union, unique, unsplit, which, which.max, which.min\n",
      "\n",
      "\n",
      "Loading required package: S4Vectors\n",
      "\n",
      "Loading required package: stats4\n",
      "\n",
      "\n",
      "Attaching package: ‘S4Vectors’\n",
      "\n",
      "\n",
      "The following object is masked from ‘package:base’:\n",
      "\n",
      "    expand.grid\n",
      "\n",
      "\n",
      "Loading required package: IRanges\n",
      "\n",
      "Loading required package: GenomeInfoDb\n",
      "\n",
      "Loading required package: GenomicRanges\n",
      "\n",
      "Loading required package: Biostrings\n",
      "\n",
      "Loading required package: XVector\n",
      "\n",
      "\n",
      "Attaching package: ‘Biostrings’\n",
      "\n",
      "\n",
      "The following object is masked from ‘package:base’:\n",
      "\n",
      "    strsplit\n",
      "\n",
      "\n",
      "Loading required package: rtracklayer\n",
      "\n",
      "Loading required package: caret\n",
      "\n",
      "Loading required package: lattice\n",
      "\n",
      "Loading required package: ggplot2\n",
      "\n",
      "Registered S3 methods overwritten by 'tibble':\n",
      "  method     from  \n",
      "  format.tbl pillar\n",
      "  print.tbl  pillar\n",
      "\n",
      "Warning message:\n",
      "“replacing previous import ‘vctrs::data_frame’ by ‘tibble::data_frame’ when loading ‘dplyr’”\n"
     ]
    }
   ],
   "source": [
    "library(BSgenome.Hsapiens.UCSC.hg38)\n",
    "library(branchpointer)\n",
    "library(GenomicRanges)\n",
    "\n"
   ]
  },
  {
   "cell_type": "code",
   "execution_count": 2,
   "metadata": {},
   "outputs": [],
   "source": [
    "g <- BSgenome.Hsapiens.UCSC.hg38::BSgenome.Hsapiens.UCSC.hg38\n"
   ]
  },
  {
   "cell_type": "markdown",
   "metadata": {},
   "source": [
    "# branchpoints for PRF38A:\n"
   ]
  },
  {
   "cell_type": "code",
   "execution_count": 14,
   "metadata": {},
   "outputs": [
    {
     "data": {
      "text/html": [
       "<table class=\"dataframe\">\n",
       "<caption>A data.frame: 2 × 132</caption>\n",
       "<thead>\n",
       "\t<tr><th></th><th scope=col>gene</th><th scope=col>gene_id</th><th scope=col>chrom</th><th scope=col>strand</th><th scope=col>start</th><th scope=col>alternative</th><th scope=col>end</th><th scope=col>NMD1</th><th scope=col>NMD2</th><th scope=col>X3AS_effect</th><th scope=col>⋯</th><th scope=col>M11_all_wt_in_cov</th><th scope=col>M11_all_wt_total_cov</th><th scope=col>K01_all_wt_in_cov</th><th scope=col>K01_all_wt_total_cov</th><th scope=col>K02_all_wt_in_cov</th><th scope=col>K02_all_wt_total_cov</th><th scope=col>N01_all_wt_in_cov</th><th scope=col>N01_all_wt_total_cov</th><th scope=col>N02_all_wt_in_cov</th><th scope=col>N02_all_wt_total_cov</th></tr>\n",
       "\t<tr><th></th><th scope=col>&lt;fct&gt;</th><th scope=col>&lt;fct&gt;</th><th scope=col>&lt;fct&gt;</th><th scope=col>&lt;fct&gt;</th><th scope=col>&lt;int&gt;</th><th scope=col>&lt;int&gt;</th><th scope=col>&lt;int&gt;</th><th scope=col>&lt;fct&gt;</th><th scope=col>&lt;fct&gt;</th><th scope=col>&lt;fct&gt;</th><th scope=col>⋯</th><th scope=col>&lt;int&gt;</th><th scope=col>&lt;int&gt;</th><th scope=col>&lt;int&gt;</th><th scope=col>&lt;int&gt;</th><th scope=col>&lt;int&gt;</th><th scope=col>&lt;int&gt;</th><th scope=col>&lt;dbl&gt;</th><th scope=col>&lt;dbl&gt;</th><th scope=col>&lt;dbl&gt;</th><th scope=col>&lt;dbl&gt;</th></tr>\n",
       "</thead>\n",
       "<tbody>\n",
       "\t<tr><th scope=row>2628</th><td>PRPF38A</td><td>ENSG00000134748.13</td><td>chr1</td><td>+</td><td>52414647</td><td>52414740</td><td>52414761</td><td>False</td><td>False</td><td>in_frame</td><td>⋯</td><td>2</td><td>42</td><td>5</td><td>261</td><td>2</td><td>159</td><td>12</td><td>261</td><td>5</td><td>164</td></tr>\n",
       "\t<tr><th scope=row>5036</th><td>PRPF38A</td><td>ENSG00000134748.13</td><td>chr1</td><td>+</td><td>52414647</td><td>52414731</td><td>52414740</td><td>False</td><td>False</td><td>coding  </td><td>⋯</td><td>0</td><td> 2</td><td>2</td><td>  5</td><td>0</td><td>  2</td><td> 2</td><td> 12</td><td>2</td><td>  5</td></tr>\n",
       "</tbody>\n",
       "</table>\n"
      ],
      "text/latex": [
       "A data.frame: 2 × 132\n",
       "\\begin{tabular}{r|lllllllllllllllllllll}\n",
       "  & gene & gene\\_id & chrom & strand & start & alternative & end & NMD1 & NMD2 & X3AS\\_effect & ⋯ & M11\\_all\\_wt\\_in\\_cov & M11\\_all\\_wt\\_total\\_cov & K01\\_all\\_wt\\_in\\_cov & K01\\_all\\_wt\\_total\\_cov & K02\\_all\\_wt\\_in\\_cov & K02\\_all\\_wt\\_total\\_cov & N01\\_all\\_wt\\_in\\_cov & N01\\_all\\_wt\\_total\\_cov & N02\\_all\\_wt\\_in\\_cov & N02\\_all\\_wt\\_total\\_cov\\\\\n",
       "  & <fct> & <fct> & <fct> & <fct> & <int> & <int> & <int> & <fct> & <fct> & <fct> & ⋯ & <int> & <int> & <int> & <int> & <int> & <int> & <dbl> & <dbl> & <dbl> & <dbl>\\\\\n",
       "\\hline\n",
       "\t2628 & PRPF38A & ENSG00000134748.13 & chr1 & + & 52414647 & 52414740 & 52414761 & False & False & in\\_frame & ⋯ & 2 & 42 & 5 & 261 & 2 & 159 & 12 & 261 & 5 & 164\\\\\n",
       "\t5036 & PRPF38A & ENSG00000134748.13 & chr1 & + & 52414647 & 52414731 & 52414740 & False & False & coding   & ⋯ & 0 &  2 & 2 &   5 & 0 &   2 &  2 &  12 & 2 &   5\\\\\n",
       "\\end{tabular}\n"
      ],
      "text/markdown": [
       "\n",
       "A data.frame: 2 × 132\n",
       "\n",
       "| <!--/--> | gene &lt;fct&gt; | gene_id &lt;fct&gt; | chrom &lt;fct&gt; | strand &lt;fct&gt; | start &lt;int&gt; | alternative &lt;int&gt; | end &lt;int&gt; | NMD1 &lt;fct&gt; | NMD2 &lt;fct&gt; | X3AS_effect &lt;fct&gt; | ⋯ ⋯ | M11_all_wt_in_cov &lt;int&gt; | M11_all_wt_total_cov &lt;int&gt; | K01_all_wt_in_cov &lt;int&gt; | K01_all_wt_total_cov &lt;int&gt; | K02_all_wt_in_cov &lt;int&gt; | K02_all_wt_total_cov &lt;int&gt; | N01_all_wt_in_cov &lt;dbl&gt; | N01_all_wt_total_cov &lt;dbl&gt; | N02_all_wt_in_cov &lt;dbl&gt; | N02_all_wt_total_cov &lt;dbl&gt; |\n",
       "|---|---|---|---|---|---|---|---|---|---|---|---|---|---|---|---|---|---|---|---|---|---|\n",
       "| 2628 | PRPF38A | ENSG00000134748.13 | chr1 | + | 52414647 | 52414740 | 52414761 | False | False | in_frame | ⋯ | 2 | 42 | 5 | 261 | 2 | 159 | 12 | 261 | 5 | 164 |\n",
       "| 5036 | PRPF38A | ENSG00000134748.13 | chr1 | + | 52414647 | 52414731 | 52414740 | False | False | coding   | ⋯ | 0 |  2 | 2 |   5 | 0 |   2 |  2 |  12 | 2 |   5 |\n",
       "\n"
      ],
      "text/plain": [
       "     gene    gene_id            chrom strand start    alternative end     \n",
       "2628 PRPF38A ENSG00000134748.13 chr1  +      52414647 52414740    52414761\n",
       "5036 PRPF38A ENSG00000134748.13 chr1  +      52414647 52414731    52414740\n",
       "     NMD1  NMD2  X3AS_effect ⋯ M11_all_wt_in_cov M11_all_wt_total_cov\n",
       "2628 False False in_frame    ⋯ 2                 42                  \n",
       "5036 False False coding      ⋯ 0                  2                  \n",
       "     K01_all_wt_in_cov K01_all_wt_total_cov K02_all_wt_in_cov\n",
       "2628 5                 261                  2                \n",
       "5036 2                   5                  0                \n",
       "     K02_all_wt_total_cov N01_all_wt_in_cov N01_all_wt_total_cov\n",
       "2628 159                  12                261                 \n",
       "5036   2                   2                 12                 \n",
       "     N02_all_wt_in_cov N02_all_wt_total_cov\n",
       "2628 5                 164                 \n",
       "5036 2                   5                 "
      ]
     },
     "metadata": {},
     "output_type": "display_data"
    }
   ],
   "source": [
    "#just to find the coordinates\n",
    "path='/project/42/pacbio/golong/06-isotools/golong_all/results_2022_12'\n",
    "regs=read.csv(paste0(path,'/04_differential_splicing/tables/golong_all_2022_12_diff_betabinomial_less_strict_3AS_all.csv'))\n",
    "regs=regs[regs$chrom %in% paste0('chr',c(1:22,'X','Y')),]\n",
    "regs[regs$gene=='PRPF38A',]\n"
   ]
  },
  {
   "cell_type": "code",
   "execution_count": 15,
   "metadata": {},
   "outputs": [
    {
     "data": {
      "text/html": [
       "7951"
      ],
      "text/latex": [
       "7951"
      ],
      "text/markdown": [
       "7951"
      ],
      "text/plain": [
       "[1] 7951"
      ]
     },
     "metadata": {},
     "output_type": "display_data"
    }
   ],
   "source": [
    "length(regs$gene)"
   ]
  },
  {
   "cell_type": "code",
   "execution_count": 4,
   "metadata": {},
   "outputs": [],
   "source": [
    "ag_pos=c(52414761,52414740,52414731,52414749)\n",
    "ag_name=c(\"AG\",\"AG21\",\"AG30\",\"AG12\")\n",
    "queryPRPF38A <- GRanges(seqnames = 'chr1', strand = '+', ranges = IRanges(start = ag_pos-44,width=27),\n",
    "                       gene_id='PRPF38A', id=ag_name, to_3prime=18, to_5prime=ag_pos-52414647-27, same_gene=FALSE) \n",
    "branchpointPredictionsPRPF38A <- predictBranchpoints(queryPRPF38A,queryType = \"region\",BSgenome = g)\n",
    "\n",
    "for (which in ag_name){\n",
    "png(filename=paste0(path,\"/07_branchpoint_prediction/plots/branchpointer_images/branchpointer_PRPF38A_\",which,\"_prim.png\"),500,700)\n",
    "        p=plotBranchpointWindow(which,branchpointPredictionsPRPF38A,probabilityCutoff = 0.52,plotMutated = FALSE,plotStructure = FALSE)\n",
    "        print(p)\n",
    "        dev.off()\n",
    "}\n",
    "#branchpointPredictionsPRPF38A\n",
    "#GCTTTGGGGAGGGGGTGGTGGTATTGGTGTTATATGTATATTGCTAACCAGATCTGGTAGTCTGACCAGTCTTTTCTACA"
   ]
  },
  {
   "cell_type": "markdown",
   "metadata": {},
   "source": [
    "# branchpoints for all 3'AS regions:\n"
   ]
  },
  {
   "cell_type": "code",
   "execution_count": 6,
   "metadata": {},
   "outputs": [],
   "source": [
    "path='/project/42/pacbio/golong/06-isotools/golong_all/results_2022_12'\n",
    "regs=read.csv(paste0(path,'/04_differential_splicing/tables/golong_all_2022_12_diff_betabinomial_less_strict_3AS_all.csv'))\n",
    "regs=regs[regs$chrom %in% paste0('chr',c(1:22,'X','Y')),]\n",
    "\n",
    "regs=regs[order(regs$AS_shift),]\n",
    "regs$bpdist=0\n",
    "regs$bpdist_alt=0\n",
    "\n",
    "#select all regions\n",
    "regs_sel=1:length(regs$AS_shift)#sum(regs$AS_shift<12)+(1:sum(regs$AS_shift<21))\n",
    "bpscores=matrix(numeric(length(regs_sel)*27),ncol=27, dimnames=list(NULL, paste0('prim_bp',-44:-18)))\n",
    "u2scores=matrix(numeric(length(regs_sel)*27),ncol=27, dimnames=list(NULL, paste0('prim_U2',-44:-18)))\n",
    "bpscores_alt=matrix(numeric(length(regs_sel)*27),ncol=27, dimnames=list(NULL, paste0('alt_bp',-44:-18)))\n",
    "u2scores_alt=matrix(numeric(length(regs_sel)*27),ncol=27, dimnames=list(NULL, paste0('alt_U2',-44:-18)))\n"
   ]
  },
  {
   "cell_type": "code",
   "execution_count": 26,
   "metadata": {},
   "outputs": [],
   "source": [
    "#takes 90 minutes, including images\n",
    "g <- BSgenome.Hsapiens.UCSC.hg38::BSgenome.Hsapiens.UCSC.hg38\n",
    "\n",
    "for (sel in regs_sel){\n",
    "    #provide the branchpoint region: -44 to -18\n",
    "    dist_5prime=regs[sel,'end']-regs[sel,'start']-18\n",
    "    if (regs[sel,'strand']=='-'){\n",
    "        bpreg_start=regs[sel,'start']+18\n",
    "        bpreg_start_alt=regs[sel,'alternative']+18\n",
    "        dist_5prime_alt=regs[sel,'end']-regs[sel,'alternative']-18        \n",
    "    }else {\n",
    "        bpreg_start=regs[sel,'end']-44+1\n",
    "        bpreg_start_alt=regs[sel,'alternative']-44+1\n",
    "        dist_5prime_alt=regs[sel,'alternative']-regs[sel,'start']-18\n",
    "    }\n",
    "    queryIntron <- GRanges(seqnames = regs[sel,'chrom'], strand = regs[sel,'strand'], ranges = IRanges(start = bpreg_start, width=27),gene_id=regs[sel,'gene_id'], id='prim', to_3prime=18, to_5prime=dist_5prime, same_gene=TRUE) \n",
    "    queryIntron_alt <- GRanges(seqnames = regs[sel,'chrom'], strand = regs[sel,'strand'], ranges = IRanges(start = bpreg_start_alt, width=27),gene_id=regs[sel,'gene_id'], id='alt', to_3prime=18, to_5prime=dist_5prime_alt, same_gene=TRUE) \n",
    "\n",
    "    branchpointPredictionsIntron <- predictBranchpoints(queryIntron,queryType = \"region\",BSgenome = g)\n",
    "    branchpointPredictionsIntron_alt <- predictBranchpoints(queryIntron_alt,queryType = \"region\",BSgenome = g)\n",
    "\n",
    "    regs$bpdist[sel]=44-which.max(branchpointPredictionsIntron$branchpoint_prob)\n",
    "    regs$bpdist_alt[sel]=44-which.max(branchpointPredictionsIntron_alt$branchpoint_prob)\n",
    "    bpscores[sel,]=branchpointPredictionsIntron$branchpoint_prob\n",
    "    u2scores[sel,]=branchpointPredictionsIntron$U2_binding_energy\n",
    "    bpscores_alt[sel,]=branchpointPredictionsIntron_alt$branchpoint_prob\n",
    "    u2scores_alt[sel,]=branchpointPredictionsIntron_alt$U2_binding_energy\n",
    "    if (regs[sel,'padj']<.05 || (regs$AS_shift[sel]>=-21 && regs$AS_shift[sel]<=-12)){\n",
    "        png(filename=paste0(path,\"/07_branchpoint_prediction/plots/branchpointer_images/branchpointer_\",sprintf(\"sequence_%04d\", regs$AS_shift[sel]),\"_\",as.character(regs$gene[sel]),\"_prim.png\"),500,700)\n",
    "        p=plotBranchpointWindow('prim',branchpointPredictionsIntron,probabilityCutoff = 0.52,plotMutated = FALSE,plotStructure = FALSE,exons = exons)\n",
    "        print(p)\n",
    "        dev.off()\n",
    "        png(filename=paste0(path,\"/07_branchpoint_prediction/plots/branchpointer_images/branchpointer_\",sprintf(\"sequence_%04d\", regs$AS_shift[sel]),\"_\",as.character(regs$gene[sel]),\"_alt.png\"),500,700)\n",
    "        p=plotBranchpointWindow('alt',branchpointPredictionsIntron_alt,probabilityCutoff = 0.52,plotMutated = FALSE,plotStructure = FALSE,exons = exons)\n",
    "        print(p)\n",
    "        dev.off()\n",
    "    }\n",
    "}"
   ]
  },
  {
   "cell_type": "code",
   "execution_count": 14,
   "metadata": {},
   "outputs": [],
   "source": [
    "regs_bp=cbind(regs,bpscores,u2scores,bpscores_alt,u2scores_alt)\n",
    "write.csv(regs_bp, paste0(path,\"/07_branchpoint_prediction/tables/golong_all_2022_12_diff_3AS_all_branchpointer.csv\"))\n"
   ]
  },
  {
   "cell_type": "markdown",
   "metadata": {},
   "source": [
    "# branchpoints for all introns expressed in K562\n"
   ]
  },
  {
   "cell_type": "code",
   "execution_count": 5,
   "metadata": {},
   "outputs": [],
   "source": [
    "# branchpoints for all introns expressed in K562:\n",
    "introns=read.csv('/project/42/pacbio/golong/06-isotools/golong_all/results_2022_12/01_transcriptome/golong_all_2022_12_K562_introns_10.csv')\n",
    "introns=introns[introns$chrom %in% paste0('chr',c(1:22,'X','Y')),]\n",
    "fwd=introns$strand=='+'\n",
    "introns$wd_start=NA\n",
    "\n",
    "search_range=c(18,44)\n",
    "\n",
    "introns$wd_start[fwd]=introns$end[fwd]-search_range[2]+1\n",
    "introns$wd_start[! fwd]=introns$start[! fwd]+search_range[1]\n",
    "introns$wd_end=introns$wd_start-search_range[1]+search_range[2]\n",
    "\n",
    "queryIntron <- GRanges(seqnames = introns$chrom, strand = introns$strand, ranges = IRanges(start = introns$wd_start, introns$wd_end),\n",
    "                       gene_id=introns$name, id=introns$X, to_3prime=search_range[1], to_5prime=introns$end-introns$start-search_range[1], same_gene=FALSE) \n",
    "\n"
   ]
  },
  {
   "cell_type": "code",
   "execution_count": 24,
   "metadata": {},
   "outputs": [],
   "source": [
    "g <- BSgenome.Hsapiens.UCSC.hg38::BSgenome.Hsapiens.UCSC.hg38\n",
    "#sel=1:dim(introns)[1]\n",
    "#introns$bpdist=0\n",
    "#bpscores=matrix(numeric(dim(introns)[1]*27),ncol=27, dimnames=list(NULL, paste0('prim_bp',-search_range[2]:-search_range[1])))\n",
    "#u2scores=matrix(numeric(dim(introns)[1]*27),ncol=27, dimnames=list(NULL, paste0('prim_U2',-search_range[2]:-search_range[1])))\n",
    "\n",
    "sel=sel[sel>i] # comment out all above lines when using this to complete predictions!\n",
    "\n",
    "\n",
    "for (i in sel){    \n",
    "    branchpointPredictionsIntron=NULL\n",
    "    try( #this fails at introns[i,]=105183\tGAGE2E\tchrX\t+\t49348386\t49528391\t49528348\t49528374\n",
    "        branchpointPredictionsIntron <- predictBranchpoints(queryIntron[i,],queryType = \"region\",BSgenome = g)\n",
    "    )\n",
    "    if (is.null(branchpointPredictionsIntron)){\n",
    "        message('skipping prediction of region ',i)\n",
    "    }else{\n",
    "        introns$bpdist[i]=44-which.max(branchpointPredictionsIntron$branchpoint_prob)\n",
    "        bpscores[i,]=branchpointPredictionsIntron$branchpoint_prob\n",
    "        u2scores[i,]=branchpointPredictionsIntron$U2_binding_energy\n",
    "        if (i%%1000==0){\n",
    "            message('saving intermediate results ',i)\n",
    "            regs_bp=cbind(introns[1:i,],bpscores[1:i,],u2scores[1:i,])\n",
    "            write.csv(regs_bp, paste0('/project/42/pacbio/golong/06-isotools/golong_all/results_2022_12/07_branchpoint_prediction/tables/introns_branchpoints_intermediate_th10_',search_range[1],'bp.csv'), row.names=FALSE)\n",
    "        }\n",
    "    }\n",
    "}\n",
    "regs_bp=cbind(introns,bpscores,u2scores)\n",
    "write.csv(regs_bp, paste0('/project/42/pacbio/golong/06-isotools/golong_all/results_2022_12/07_branchpoint_prediction/tables/introns_K562_branchpoints_th10_',search_range[1],'bp.csv'), row.names=FALSE)\n",
    "# about 44000 in total for th100 (at least 100 reads coverage), \n",
    "# and 100000 for th10 (10 reads coverage in K562)"
   ]
  },
  {
   "cell_type": "code",
   "execution_count": null,
   "metadata": {},
   "outputs": [],
   "source": []
  }
 ],
 "metadata": {
  "kernelspec": {
   "display_name": "R 3.6.3",
   "language": "R",
   "name": "ir363"
  },
  "language_info": {
   "codemirror_mode": "r",
   "file_extension": ".r",
   "mimetype": "text/x-r-source",
   "name": "R",
   "pygments_lexer": "r",
   "version": "3.6.3"
  }
 },
 "nbformat": 4,
 "nbformat_minor": 4
}
