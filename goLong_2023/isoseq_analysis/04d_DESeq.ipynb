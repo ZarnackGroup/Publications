{
 "cells": [
  {
   "cell_type": "code",
   "execution_count": 1,
   "metadata": {},
   "outputs": [
    {
     "name": "stderr",
     "output_type": "stream",
     "text": [
      "Loading required package: S4Vectors\n",
      "\n",
      "Loading required package: stats4\n",
      "\n",
      "Loading required package: BiocGenerics\n",
      "\n",
      "Loading required package: parallel\n",
      "\n",
      "\n",
      "Attaching package: ‘BiocGenerics’\n",
      "\n",
      "\n",
      "The following objects are masked from ‘package:parallel’:\n",
      "\n",
      "    clusterApply, clusterApplyLB, clusterCall, clusterEvalQ,\n",
      "    clusterExport, clusterMap, parApply, parCapply, parLapply,\n",
      "    parLapplyLB, parRapply, parSapply, parSapplyLB\n",
      "\n",
      "\n",
      "The following objects are masked from ‘package:stats’:\n",
      "\n",
      "    IQR, mad, sd, var, xtabs\n",
      "\n",
      "\n",
      "The following objects are masked from ‘package:base’:\n",
      "\n",
      "    Filter, Find, Map, Position, Reduce, anyDuplicated, append,\n",
      "    as.data.frame, basename, cbind, colnames, dirname, do.call,\n",
      "    duplicated, eval, evalq, get, grep, grepl, intersect, is.unsorted,\n",
      "    lapply, mapply, match, mget, order, paste, pmax, pmax.int, pmin,\n",
      "    pmin.int, rank, rbind, rownames, sapply, setdiff, sort, table,\n",
      "    tapply, union, unique, unsplit, which, which.max, which.min\n",
      "\n",
      "\n",
      "\n",
      "Attaching package: ‘S4Vectors’\n",
      "\n",
      "\n",
      "The following object is masked from ‘package:base’:\n",
      "\n",
      "    expand.grid\n",
      "\n",
      "\n",
      "Loading required package: IRanges\n",
      "\n",
      "Loading required package: GenomicRanges\n",
      "\n",
      "Loading required package: GenomeInfoDb\n",
      "\n",
      "Loading required package: SummarizedExperiment\n",
      "\n",
      "Loading required package: Biobase\n",
      "\n",
      "Welcome to Bioconductor\n",
      "\n",
      "    Vignettes contain introductory material; view with\n",
      "    'browseVignettes()'. To cite Bioconductor, see\n",
      "    'citation(\"Biobase\")', and for packages 'citation(\"pkgname\")'.\n",
      "\n",
      "\n",
      "Loading required package: DelayedArray\n",
      "\n",
      "Loading required package: matrixStats\n",
      "\n",
      "\n",
      "Attaching package: ‘matrixStats’\n",
      "\n",
      "\n",
      "The following objects are masked from ‘package:Biobase’:\n",
      "\n",
      "    anyMissing, rowMedians\n",
      "\n",
      "\n",
      "Loading required package: BiocParallel\n",
      "\n",
      "Warning message:\n",
      "“multiple methods tables found for ‘type’”\n",
      "\n",
      "Attaching package: ‘DelayedArray’\n",
      "\n",
      "\n",
      "The following objects are masked from ‘package:matrixStats’:\n",
      "\n",
      "    colMaxs, colMins, colRanges, rowMaxs, rowMins, rowRanges\n",
      "\n",
      "\n",
      "The following object is masked from ‘package:BiocGenerics’:\n",
      "\n",
      "    type\n",
      "\n",
      "\n",
      "The following objects are masked from ‘package:base’:\n",
      "\n",
      "    aperm, apply, rowsum\n",
      "\n",
      "\n",
      "Warning message:\n",
      "“replacing previous import ‘BiocGenerics::type’ by ‘DelayedArray::type’ when loading ‘SummarizedExperiment’”\n",
      "Registered S3 methods overwritten by 'tibble':\n",
      "  method     from  \n",
      "  format.tbl pillar\n",
      "  print.tbl  pillar\n",
      "\n"
     ]
    }
   ],
   "source": [
    "library(\"DESeq2\")"
   ]
  },
  {
   "cell_type": "code",
   "execution_count": 10,
   "metadata": {},
   "outputs": [
    {
     "data": {
      "text/html": [
       "<table class=\"dataframe\">\n",
       "<caption>A matrix: 2 × 58 of type int</caption>\n",
       "<thead>\n",
       "\t<tr><th></th><th scope=col>K01</th><th scope=col>K02</th><th scope=col>K03</th><th scope=col>K04</th><th scope=col>N01</th><th scope=col>N02</th><th scope=col>N03</th><th scope=col>N04</th><th scope=col>C01</th><th scope=col>C02</th><th scope=col>⋯</th><th scope=col>M22</th><th scope=col>M23</th><th scope=col>M24</th><th scope=col>M25</th><th scope=col>B01</th><th scope=col>B02</th><th scope=col>B03</th><th scope=col>B04</th><th scope=col>B05</th><th scope=col>B06</th></tr>\n",
       "</thead>\n",
       "<tbody>\n",
       "\t<tr><th scope=row>ENSG00000278704.1</th><td>11</td><td>2</td><td>13</td><td>11</td><td>0</td><td>0</td><td>0</td><td>0</td><td>0</td><td>0</td><td>⋯</td><td>0</td><td>0</td><td>0</td><td>0</td><td>0</td><td>0</td><td>0</td><td>0</td><td>0</td><td>0</td></tr>\n",
       "\t<tr><th scope=row>PB_novel_05614</th><td> 0</td><td>1</td><td> 1</td><td> 0</td><td>0</td><td>0</td><td>0</td><td>0</td><td>0</td><td>0</td><td>⋯</td><td>0</td><td>0</td><td>0</td><td>0</td><td>0</td><td>0</td><td>0</td><td>0</td><td>0</td><td>0</td></tr>\n",
       "</tbody>\n",
       "</table>\n"
      ],
      "text/latex": [
       "A matrix: 2 × 58 of type int\n",
       "\\begin{tabular}{r|lllllllllllllllllllll}\n",
       "  & K01 & K02 & K03 & K04 & N01 & N02 & N03 & N04 & C01 & C02 & ⋯ & M22 & M23 & M24 & M25 & B01 & B02 & B03 & B04 & B05 & B06\\\\\n",
       "\\hline\n",
       "\tENSG00000278704.1 & 11 & 2 & 13 & 11 & 0 & 0 & 0 & 0 & 0 & 0 & ⋯ & 0 & 0 & 0 & 0 & 0 & 0 & 0 & 0 & 0 & 0\\\\\n",
       "\tPB\\_novel\\_05614 &  0 & 1 &  1 &  0 & 0 & 0 & 0 & 0 & 0 & 0 & ⋯ & 0 & 0 & 0 & 0 & 0 & 0 & 0 & 0 & 0 & 0\\\\\n",
       "\\end{tabular}\n"
      ],
      "text/markdown": [
       "\n",
       "A matrix: 2 × 58 of type int\n",
       "\n",
       "| <!--/--> | K01 | K02 | K03 | K04 | N01 | N02 | N03 | N04 | C01 | C02 | ⋯ | M22 | M23 | M24 | M25 | B01 | B02 | B03 | B04 | B05 | B06 |\n",
       "|---|---|---|---|---|---|---|---|---|---|---|---|---|---|---|---|---|---|---|---|---|---|\n",
       "| ENSG00000278704.1 | 11 | 2 | 13 | 11 | 0 | 0 | 0 | 0 | 0 | 0 | ⋯ | 0 | 0 | 0 | 0 | 0 | 0 | 0 | 0 | 0 | 0 |\n",
       "| PB_novel_05614 |  0 | 1 |  1 |  0 | 0 | 0 | 0 | 0 | 0 | 0 | ⋯ | 0 | 0 | 0 | 0 | 0 | 0 | 0 | 0 | 0 | 0 |\n",
       "\n"
      ],
      "text/plain": [
       "                  K01 K02 K03 K04 N01 N02 N03 N04 C01 C02 ⋯ M22 M23 M24 M25 B01\n",
       "ENSG00000278704.1 11  2   13  11  0   0   0   0   0   0   ⋯ 0   0   0   0   0  \n",
       "PB_novel_05614     0  1    1   0  0   0   0   0   0   0   ⋯ 0   0   0   0   0  \n",
       "                  B02 B03 B04 B05 B06\n",
       "ENSG00000278704.1 0   0   0   0   0  \n",
       "PB_novel_05614    0   0   0   0   0  "
      ]
     },
     "metadata": {},
     "output_type": "display_data"
    }
   ],
   "source": [
    "cts_file='/project/42/pacbio/golong/06-isotools/golong_all/results_2022_12/01_transcriptome/golong_all_2022_12_all_genes_counts.csv'\n",
    "cts <- as.matrix(read.csv(cts_file,sep=\",\", row.names='X'))\n",
    "head(cts,2)"
   ]
  },
  {
   "cell_type": "code",
   "execution_count": 8,
   "metadata": {},
   "outputs": [
    {
     "data": {
      "text/html": [
       "<table class=\"dataframe\">\n",
       "<caption>A data.frame: 2 × 15</caption>\n",
       "<thead>\n",
       "\t<tr><th></th><th scope=col>X</th><th scope=col>file</th><th scope=col>group</th><th scope=col>nonchimeric_reads</th><th scope=col>chimeric_reads</th><th scope=col>internal_id</th><th scope=col>phenotype</th><th scope=col>genotype</th><th scope=col>platform</th><th scope=col>TSM_ID</th><th scope=col>sample_pool</th><th scope=col>DNA_smear</th><th scope=col>illumina_sample_id</th><th scope=col>SF3B1_mut</th><th scope=col>SF3B1_AF</th></tr>\n",
       "\t<tr><th></th><th scope=col>&lt;int&gt;</th><th scope=col>&lt;fct&gt;</th><th scope=col>&lt;fct&gt;</th><th scope=col>&lt;int&gt;</th><th scope=col>&lt;int&gt;</th><th scope=col>&lt;fct&gt;</th><th scope=col>&lt;fct&gt;</th><th scope=col>&lt;fct&gt;</th><th scope=col>&lt;fct&gt;</th><th scope=col>&lt;fct&gt;</th><th scope=col>&lt;fct&gt;</th><th scope=col>&lt;dbl&gt;</th><th scope=col>&lt;fct&gt;</th><th scope=col>&lt;fct&gt;</th><th scope=col>&lt;fct&gt;</th></tr>\n",
       "</thead>\n",
       "<tbody>\n",
       "\t<tr><th scope=row>K01</th><td>0</td><td>/project/42/pacbio/golong/05d-raw_align_mm2/D001_flnc_aligned.bam</td><td>K562_wt</td><td>694647</td><td>314</td><td>K562_wt_1</td><td>K562</td><td>wt</td><td>S2</td><td>D001</td><td>1-1</td><td>2828</td><td>MRS938</td><td></td><td></td></tr>\n",
       "\t<tr><th scope=row>K02</th><td>0</td><td>/project/42/pacbio/golong/05d-raw_align_mm2/D002_flnc_aligned.bam</td><td>K562_wt</td><td>525087</td><td>540</td><td>K562_wt_2</td><td>K562</td><td>wt</td><td>S2</td><td>D002</td><td>1-1</td><td>2692</td><td>MRS940</td><td></td><td></td></tr>\n",
       "</tbody>\n",
       "</table>\n"
      ],
      "text/latex": [
       "A data.frame: 2 × 15\n",
       "\\begin{tabular}{r|lllllllllllllll}\n",
       "  & X & file & group & nonchimeric\\_reads & chimeric\\_reads & internal\\_id & phenotype & genotype & platform & TSM\\_ID & sample\\_pool & DNA\\_smear & illumina\\_sample\\_id & SF3B1\\_mut & SF3B1\\_AF\\\\\n",
       "  & <int> & <fct> & <fct> & <int> & <int> & <fct> & <fct> & <fct> & <fct> & <fct> & <fct> & <dbl> & <fct> & <fct> & <fct>\\\\\n",
       "\\hline\n",
       "\tK01 & 0 & /project/42/pacbio/golong/05d-raw\\_align\\_mm2/D001\\_flnc\\_aligned.bam & K562\\_wt & 694647 & 314 & K562\\_wt\\_1 & K562 & wt & S2 & D001 & 1-1 & 2828 & MRS938 &  & \\\\\n",
       "\tK02 & 0 & /project/42/pacbio/golong/05d-raw\\_align\\_mm2/D002\\_flnc\\_aligned.bam & K562\\_wt & 525087 & 540 & K562\\_wt\\_2 & K562 & wt & S2 & D002 & 1-1 & 2692 & MRS940 &  & \\\\\n",
       "\\end{tabular}\n"
      ],
      "text/markdown": [
       "\n",
       "A data.frame: 2 × 15\n",
       "\n",
       "| <!--/--> | X &lt;int&gt; | file &lt;fct&gt; | group &lt;fct&gt; | nonchimeric_reads &lt;int&gt; | chimeric_reads &lt;int&gt; | internal_id &lt;fct&gt; | phenotype &lt;fct&gt; | genotype &lt;fct&gt; | platform &lt;fct&gt; | TSM_ID &lt;fct&gt; | sample_pool &lt;fct&gt; | DNA_smear &lt;dbl&gt; | illumina_sample_id &lt;fct&gt; | SF3B1_mut &lt;fct&gt; | SF3B1_AF &lt;fct&gt; |\n",
       "|---|---|---|---|---|---|---|---|---|---|---|---|---|---|---|---|\n",
       "| K01 | 0 | /project/42/pacbio/golong/05d-raw_align_mm2/D001_flnc_aligned.bam | K562_wt | 694647 | 314 | K562_wt_1 | K562 | wt | S2 | D001 | 1-1 | 2828 | MRS938 | <!----> | <!----> |\n",
       "| K02 | 0 | /project/42/pacbio/golong/05d-raw_align_mm2/D002_flnc_aligned.bam | K562_wt | 525087 | 540 | K562_wt_2 | K562 | wt | S2 | D002 | 1-1 | 2692 | MRS940 | <!----> | <!----> |\n",
       "\n"
      ],
      "text/plain": [
       "    X file                                                              group  \n",
       "K01 0 /project/42/pacbio/golong/05d-raw_align_mm2/D001_flnc_aligned.bam K562_wt\n",
       "K02 0 /project/42/pacbio/golong/05d-raw_align_mm2/D002_flnc_aligned.bam K562_wt\n",
       "    nonchimeric_reads chimeric_reads internal_id phenotype genotype platform\n",
       "K01 694647            314            K562_wt_1   K562      wt       S2      \n",
       "K02 525087            540            K562_wt_2   K562      wt       S2      \n",
       "    TSM_ID sample_pool DNA_smear illumina_sample_id SF3B1_mut SF3B1_AF\n",
       "K01 D001   1-1         2828      MRS938                               \n",
       "K02 D002   1-1         2692      MRS940                               "
      ]
     },
     "metadata": {},
     "output_type": "display_data"
    }
   ],
   "source": [
    "samples_file=\"/project/42/pacbio/golong/06-isotools/golong_all/results_2022_12/01_transcriptome/golong_all_2022_12_samples.csv\"\n",
    "samples=read.csv(samples_file,sep=\",\",row.names=\"name\")\n",
    "head(samples,2)"
   ]
  },
  {
   "cell_type": "code",
   "execution_count": 11,
   "metadata": {},
   "outputs": [],
   "source": [
    "\n",
    "dds <- DESeqDataSetFromMatrix(countData = cts,\n",
    "                              colData = samples,\n",
    "                              design = ~ phenotype+genotype)"
   ]
  },
  {
   "cell_type": "code",
   "execution_count": 12,
   "metadata": {},
   "outputs": [],
   "source": [
    "keep <- rowSums(counts(dds)) >= 10\n",
    "dds <- dds[keep,]"
   ]
  },
  {
   "cell_type": "code",
   "execution_count": 14,
   "metadata": {},
   "outputs": [
    {
     "name": "stderr",
     "output_type": "stream",
     "text": [
      "estimating size factors\n",
      "\n",
      "estimating dispersions\n",
      "\n",
      "gene-wise dispersion estimates\n",
      "\n",
      "mean-dispersion relationship\n",
      "\n",
      "final dispersion estimates\n",
      "\n",
      "fitting model and testing\n",
      "\n",
      "-- replacing outliers and refitting for 325 genes\n",
      "-- DESeq argument 'minReplicatesForReplace' = 7 \n",
      "-- original counts are preserved in counts(dds)\n",
      "\n",
      "estimating dispersions\n",
      "\n",
      "fitting model and testing\n",
      "\n"
     ]
    }
   ],
   "source": [
    "dds <- DESeq(dds)\n",
    "res <- results(dds)\n"
   ]
  },
  {
   "cell_type": "code",
   "execution_count": 35,
   "metadata": {},
   "outputs": [
    {
     "name": "stdout",
     "output_type": "stream",
     "text": [
      "\n",
      "out of 24572 with nonzero total read count\n",
      "adjusted p-value < 0.1\n",
      "LFC > 0 (up)       : 7, 0.028%\n",
      "LFC < 0 (down)     : 8, 0.033%\n",
      "outliers [1]       : 34, 0.14%\n",
      "low counts [2]     : 14292, 58%\n",
      "(mean count < 2)\n",
      "[1] see 'cooksCutoff' argument of ?results\n",
      "[2] see 'independentFiltering' argument of ?results\n",
      "\n"
     ]
    },
    {
     "data": {
      "text/plain": [
       "log2 fold change (MLE): genotype wt vs mut \n",
       "Wald test p-value: genotype wt vs mut \n",
       "DataFrame with 15 rows and 6 columns\n",
       "                           baseMean     log2FoldChange             lfcSE\n",
       "                          <numeric>          <numeric>         <numeric>\n",
       "ENSG00000132704.16 133.523565488384   2.21553549010624 0.427152255411468\n",
       "ENSG00000267002.4  3.46476354849288  -1.76759242428026 0.348764001912363\n",
       "ENSG00000145287.11 73.1225894768266   2.63928542604816 0.578394356646864\n",
       "ENSG00000167232.14 24.4853779780431  -1.27229947678059 0.282376111198743\n",
       "PB_novel_20766     40.1562418451005  -3.57070889541602 0.802380960213559\n",
       "...                             ...                ...               ...\n",
       "ENSG00000245060.8  2.54261919220278  -1.42221460395326 0.369189091980319\n",
       "ENSG00000143624.14 2.57382732215794   2.65841498980272 0.694713478927013\n",
       "ENSG00000100941.9  257.904958147878 -0.636025623140091 0.166540450054175\n",
       "ENSG00000173926.6  11.0103956788007  -1.30945868746366 0.343501127263008\n",
       "ENSG00000134900.12 54.7745430977101  0.784739757502738 0.206432518240489\n",
       "                                stat               pvalue                padj\n",
       "                           <numeric>            <numeric>           <numeric>\n",
       "ENSG00000132704.16  5.18675826251239 2.13986201266379e-07 0.00205858798764075\n",
       "ENSG00000267002.4  -5.06816189339522 4.01675704905512e-07 0.00205858798764075\n",
       "ENSG00000145287.11    4.563124442204  5.0397921765946e-06  0.0169528155999314\n",
       "ENSG00000167232.14 -4.50569090770257 6.61573291704641e-06  0.0169528155999314\n",
       "PB_novel_20766     -4.45014160663241 8.58136878150789e-06  0.0175918060020912\n",
       "...                              ...                  ...                 ...\n",
       "ENSG00000245060.8  -3.85226604698569 0.000117029770597146  0.0983047435383285\n",
       "ENSG00000143624.14  3.82663510992856 0.000129906860455373  0.0983047435383285\n",
       "ENSG00000100941.9  -3.81904590106003 0.000133968834953685  0.0983047435383285\n",
       "ENSG00000173926.6  -3.81209429470387  0.00013779428608866  0.0983047435383285\n",
       "ENSG00000134900.12  3.80143479424368 0.000143860600299993  0.0983047435383285"
      ]
     },
     "metadata": {},
     "output_type": "display_data"
    }
   ],
   "source": [
    "res_wt_mut <- results(dds, contrast=c(\"genotype\",\"wt\",\"mut\"), name='wt vs mut', alpha=0.1)\n",
    "summary(res_wt_mut)\n",
    "res_wt_mut <- res_wt_mut[order(res_wt_mut$pvalue),]\n",
    "subset(res_wt_mut, padj < 0.1)\n",
    "out_file=\"/project/42/pacbio/golong/06-isotools/golong_all/results_2022_12/04_differential_splicing/DESeq/golong_all_2022_12_DESeq_wt_mut.csv\"\n",
    "\n",
    "write.csv(as.data.frame(res_wt_mut), file=out_file)"
   ]
  },
  {
   "cell_type": "code",
   "execution_count": 31,
   "metadata": {},
   "outputs": [],
   "source": [
    "res_MDS_CLL <- results(dds, contrast=c(\"phenotype\",\"MDS\",\"CLL\"), name='MDS vs CLL', alpha=0.01)\n",
    "res_MDS_CLL <- res_MDS_CLL[order(res_MDS_CLL$pvalue),]"
   ]
  },
  {
   "cell_type": "code",
   "execution_count": 28,
   "metadata": {},
   "outputs": [
    {
     "name": "stdout",
     "output_type": "stream",
     "text": [
      "\n",
      "out of 24572 with nonzero total read count\n",
      "adjusted p-value < 0.01\n",
      "LFC > 0 (up)       : 5247, 21%\n",
      "LFC < 0 (down)     : 2106, 8.6%\n",
      "outliers [1]       : 34, 0.14%\n",
      "low counts [2]     : 8579, 35%\n",
      "(mean count < 0)\n",
      "[1] see 'cooksCutoff' argument of ?results\n",
      "[2] see 'independentFiltering' argument of ?results\n",
      "\n"
     ]
    }
   ],
   "source": [
    "summary(res_MDS_CLL)"
   ]
  },
  {
   "cell_type": "code",
   "execution_count": 34,
   "metadata": {},
   "outputs": [],
   "source": [
    "out_file=\"/project/42/pacbio/golong/06-isotools/golong_all/results_2022_12/04_differential_splicing/DESeq/golong_all_2022_12_DESeq_MDS_CLL.csv\"\n",
    "\n",
    "write.csv(as.data.frame(res_MDS_CLL), file=out_file)"
   ]
  },
  {
   "cell_type": "code",
   "execution_count": null,
   "metadata": {},
   "outputs": [],
   "source": []
  }
 ],
 "metadata": {
  "kernelspec": {
   "display_name": "R",
   "language": "R",
   "name": "ir"
  },
  "language_info": {
   "codemirror_mode": "r",
   "file_extension": ".r",
   "mimetype": "text/x-r-source",
   "name": "R",
   "pygments_lexer": "r",
   "version": "3.6.1"
  }
 },
 "nbformat": 4,
 "nbformat_minor": 4
}
