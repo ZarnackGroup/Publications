{
 "cells": [
  {
   "cell_type": "code",
   "execution_count": 1,
   "metadata": {},
   "outputs": [
    {
     "name": "stdout",
     "output_type": "stream",
     "text": [
      "This is isotools version 0.3.5rc4\n"
     ]
    }
   ],
   "source": [
    "from  isotools import Transcriptome\n",
    "import isotools\n",
    "print (f'This is isotools version {isotools.__version__}')\n",
    "\n",
    "import os\n",
    "import pandas as pd\n",
    "import numpy as np\n",
    "from glob import glob\n",
    "import matplotlib.pyplot as plt\n",
    "import logging\n",
    "import pathlib\n",
    "\n",
    "logging.basicConfig(format='%(levelname)s:%(message)s', level=logging.INFO)\n"
   ]
  },
  {
   "cell_type": "code",
   "execution_count": null,
   "metadata": {},
   "outputs": [],
   "source": []
  },
  {
   "cell_type": "code",
   "execution_count": 2,
   "metadata": {},
   "outputs": [],
   "source": [
    "path='/project/42/pacbio/golong'\n",
    "date='2022_12'\n",
    "project='golong_all'\n",
    "out_path=f'{path}/06-isotools/{project}/results_{date}/01_transcriptome'\n",
    "pathlib.Path(out_path).mkdir(parents=True, exist_ok=True)\n",
    "plot_path=f'{out_path}/plots'\n",
    "pathlib.Path(plot_path).mkdir(parents=True, exist_ok=True)\n",
    "table_path=f'{out_path}/tables'\n",
    "pathlib.Path(table_path).mkdir(parents=True, exist_ok=True)\n",
    "\n",
    "ref_fn=f'{path}/../references/gencode/gencode.v36.chr_patch_hapl_scaff.annotation_sorted'\n",
    "genome_fn=f'{path}/../references/gencode/GRCh38.p13.genome.fa'\n"
   ]
  },
  {
   "cell_type": "code",
   "execution_count": 3,
   "metadata": {},
   "outputs": [],
   "source": [
    "#prepare the sample table \n",
    "samples=pd.read_csv(path+'/scripts/samples/golong_all.csv').set_index('internal_id')\n",
    "samples=samples.loc[~samples.file.str.contains('ENCODE')]\n",
    "samples=samples.drop('CLL201')\n",
    "samples.file=samples.file.str.replace('05c-raw_align_p13', '05d-raw_align_mm2')\n",
    "sample_mut_af=pd.read_csv(path+'/scripts/samples/golong_isoseq_mutations.csv', sep='\\t')\n",
    "mut=[]\n",
    "afreq=[]\n",
    "for idx,row in samples.iterrows():\n",
    "    af=sample_mut_af.query(f'id == \"{row.TSM_ID}\"')\n",
    "    mut.append(','.join([p for p,a in zip(af.protein, af.mut_fraction) if a==a]))\n",
    "    afreq.append(','.join([str(a) for p,a in zip(af.protein, af.mut_fraction) if a==a]))\n",
    "samples['SF3B1_mut']=mut \n",
    "samples['SF3B1_AF']=afreq\n",
    "\n",
    "# assign the short \"manuscript\" sample names\n",
    "grp_order={c:i for i,c in enumerate('KNCMB')}\n",
    "groups={gn: [sa for sa,grn in samples.group.items() if grn==gn] for gn in samples.group.unique()}\n",
    "new_names={}\n",
    "for gr in ['CLL', \"MDS\", \"K562\", \"Nalm6\"]:\n",
    "    count=0\n",
    "    for mut in ['wt','mut']:\n",
    "        for sa in groups[f'{gr}_{mut}']:\n",
    "            count+=1\n",
    "            new_names[sa]=f'{gr[0]}{count:02d}'\n",
    "#swap=('CLL198', 'CLL222')\n",
    "#new_names[swap[0]], new_names[swap[1]]=new_names[swap[1]],new_names[swap[0]]\n",
    "\n",
    "for gr in ['B-cell']:#, 'K562', 'HL-60', 'GM12878']:\n",
    "    count=0\n",
    "    for sa in groups[gr]:\n",
    "        count+=1\n",
    "        new_names[sa]=f'{gr[0]}{\"\" if gr== \"B-cell\" else \"E\"}{count:02d}'\n",
    "\n",
    "#isoseq.sample_table['name']=[new_names[sa] for sa in isoseq.samples]\n",
    "samples=samples.reset_index()\n",
    "samples.index=[new_names[sa] for sa in samples['internal_id']]\n",
    "samples.sort_index( key=lambda x: [(grp_order[c[0]], c[1:]) for c in x], inplace=True)\n"
   ]
  },
  {
   "cell_type": "code",
   "execution_count": null,
   "metadata": {
    "tags": []
   },
   "outputs": [],
   "source": [
    "# alternatively: isoseq=Transcriptome.load(f'{out_path}/{project}_{date}_isotools_sparse.pkl')\n",
    "isoseq=Transcriptome.from_reference(ref_fn+'.gff3.gz')\n",
    "isoseq.save_reference(ref_fn+'.isotools_03.pkl')\n",
    "isoseq.collapse_immune_genes()\n",
    "#isoseq=Transcriptome('/project/42/pacbio/MDS/06-isotools/MD1)\n",
    "for sa,params in samples.iterrows():\n",
    "    if sa not in isoseq.samples:    \n",
    "        isoseq.add_sample_from_bam(params['file'], sample_name=sa, **{k:v for k,v in params.items() if k not in ['file', 'total_reads']})\n",
    "\n",
    "        \n",
    "isoseq.add_qc_metrics(genome_fn) #takes about 2.5h\n",
    "isoseq.add_orf_prediction(genome_fn)\n",
    "isoseq.make_index()\n",
    "illu_fn={row['name']: glob(f'{path}/07-star/gencode_36/*{row.illumina_sample_id}*sortedByCoord.out.bam') for idx,row in isoseq.sample_table.iterrows() if row.illumina_sample_id ==row.illumina_sample_id }\n",
    "#missing CLL171 (MRS621) and CLL222 (MRS633)\n",
    "illu_fn={k:v[0] for k,v in illu_fn.items() if v}\n",
    "isoseq.add_short_read_coverage(illu_fn)\n",
    "isoseq.add_filter( 'SUBSTANTIAL_1', 'g.coverage.sum() * .01 < g.coverage[:,trid].sum()',context='transcript') # at least 1 % (default 5%)\n",
    "isoseq.add_filter( \"PROTEIN_CODING\", 'transcript_type==\"protein_coding\"', context='reference')\n",
    "\n",
    "isoseq.save(f'{out_path}/golong_all_{date}_isotools_full.pkl')\n",
    "for g in isoseq.iter_genes():\n",
    "    _=g.coverage\n",
    "    for tr in g.transcripts:\n",
    "        tr.pop('TSS', None)\n",
    "        tr.pop('PAS', None)\n",
    "        tr.pop('strand', None)            \n",
    "        tr.pop('coverage', None)\n",
    "        tr.pop('direct_repeat_len', None)\n",
    "        tr.pop('coverage', None)\n",
    "isoseq.save(f'{out_path}/{project}_{date}_isotools_sparse.pkl')\n",
    "print(isoseq.groups())\n"
   ]
  },
  {
   "cell_type": "code",
   "execution_count": 33,
   "metadata": {},
   "outputs": [],
   "source": [
    "\n",
    "groups={k:v for k,v in isoseq.groups().items() if k[:3] in ['CLL', 'MDS']}\n",
    "group_num={grp:i for i,grp in enumerate(['K562_mut','K562_wt','Nalm6_mut', 'Nalm6_wt','CLL_mut','CLL_wt', 'MDS_mut', 'MDS_wt','B-cell'])}\n",
    "\n",
    "groups['CL_wt']=[sa for gr in ['K562_wt', 'Nalm6_wt'] for sa in isoseq.groups()[gr]]\n",
    "groups['CL_mut']=[sa for gr in ['K562_mut', 'Nalm6_mut'] for sa in isoseq.groups()[gr]]\n",
    "groups['B-cell']=isoseq.groups()['B-cell']\n",
    "group_idx={gn:[i for i,sa in enumerate(isoseq.samples) if sa in grp] for gn,grp in groups.items()}\n",
    "group_idx['all']=list(range(len(isoseq.samples)))\n",
    "group_idx['all_wt']=[sa for gr in groups for sa in group_idx[gr] if '_wt' in gr]\n",
    "group_idx['all_mut']=[sa for gr in groups for sa in group_idx[gr] if '_mut' in gr]"
   ]
  },
  {
   "cell_type": "code",
   "execution_count": null,
   "metadata": {},
   "outputs": [],
   "source": [
    "isoseq.sample_table.to_csv(f'{out_path}/{project}_{date}_samples.csv')"
   ]
  },
  {
   "cell_type": "markdown",
   "metadata": {},
   "source": [
    "## add protein domains"
   ]
  },
  {
   "cell_type": "code",
   "execution_count": 52,
   "metadata": {
    "tags": []
   },
   "outputs": [
    {
     "name": "stdout",
     "output_type": "stream",
     "text": [
      "extracellular\n"
     ]
    },
    {
     "name": "stderr",
     "output_type": "stream",
     "text": [
      "100%|█████████████████████████████████████████████████████████████████████████████████████████████████████████| 8513/8513 [00:22<00:00, 385.45domains/s]\n",
      "INFO:found domains at 127273 transcript loci\n",
      "/home/lienhard/.local/lib/python3.10/site-packages/isotools/domains.py:227: DtypeWarning: Columns (23,24) have mixed types. Specify dtype option on import or set low_memory=False.\n",
      "  anno = pd.read_csv(annotation, sep='\\t')\n"
     ]
    },
    {
     "name": "stdout",
     "output_type": "stream",
     "text": [
      "interest\n"
     ]
    },
    {
     "name": "stderr",
     "output_type": "stream",
     "text": [
      "100%|███████████████████████████████████████████████████████████████████████████████████████████████████████| 67433/67433 [08:35<00:00, 130.91domains/s]\n",
      "INFO:found domains at 3599358 transcript loci\n"
     ]
    },
    {
     "name": "stdout",
     "output_type": "stream",
     "text": [
      "transmembrane\n"
     ]
    },
    {
     "name": "stderr",
     "output_type": "stream",
     "text": [
      "100%|███████████████████████████████████████████████████████████████████████████████████████████████████████| 44911/44911 [02:33<00:00, 292.22domains/s]\n",
      "INFO:found domains at 1316780 transcript loci\n"
     ]
    },
    {
     "name": "stdout",
     "output_type": "stream",
     "text": [
      "cytoplasmic\n"
     ]
    },
    {
     "name": "stderr",
     "output_type": "stream",
     "text": [
      "100%|███████████████████████████████████████████████████████████████████████████████████████████████████████| 10776/10776 [00:34<00:00, 316.92domains/s]\n",
      "INFO:found domains at 223579 transcript loci\n"
     ]
    },
    {
     "name": "stdout",
     "output_type": "stream",
     "text": [
      "domains\n"
     ]
    },
    {
     "name": "stderr",
     "output_type": "stream",
     "text": [
      "100%|███████████████████████████████████████████████████████████████████████████████████████████████████████| 85285/85285 [10:35<00:00, 134.26domains/s]\n",
      "INFO:found domains at 3987367 transcript loci\n"
     ]
    },
    {
     "name": "stdout",
     "output_type": "stream",
     "text": [
      "aamodification\n"
     ]
    },
    {
     "name": "stderr",
     "output_type": "stream",
     "text": [
      "100%|███████████████████████████████████████████████████████████████████████████████████████████████████████| 79520/79520 [10:13<00:00, 129.59domains/s]\n",
      "INFO:found domains at 5816406 transcript loci\n"
     ]
    },
    {
     "name": "stdout",
     "output_type": "stream",
     "text": [
      "mutations\n"
     ]
    },
    {
     "name": "stderr",
     "output_type": "stream",
     "text": [
      "100%|█████████████████████████████████████████████████████████████████████████████████████████████████████| 116684/116684 [11:54<00:00, 163.41domains/s]\n",
      "INFO:found domains at 6615478 transcript loci\n"
     ]
    },
    {
     "name": "stdout",
     "output_type": "stream",
     "text": [
      "other\n"
     ]
    },
    {
     "name": "stderr",
     "output_type": "stream",
     "text": [
      "100%|█████████████████████████████████████████████████████████████████████████████████████████████████████| 129138/129138 [16:35<00:00, 129.67domains/s]\n",
      "INFO:found domains at 8837451 transcript loci\n"
     ]
    },
    {
     "name": "stdout",
     "output_type": "stream",
     "text": [
      "structure\n"
     ]
    },
    {
     "name": "stderr",
     "output_type": "stream",
     "text": [
      "/home/lienhard/.local/lib/python3.10/site-packages/isotools/domains.py:227: DtypeWarning: Columns (28) have mixed types. Specify dtype option on import or set low_memory=False.\n",
      "  anno = pd.read_csv(annotation, sep='\\t')\n",
      "100%|█████████████████████████████████████████████████████████████████████████████████████████████████████| 186235/186235 [28:11<00:00, 110.12domains/s]\n",
      "INFO:found domains at 15056584 transcript loci\n"
     ]
    },
    {
     "name": "stdout",
     "output_type": "stream",
     "text": [
      "repeat\n"
     ]
    },
    {
     "name": "stderr",
     "output_type": "stream",
     "text": [
      "100%|███████████████████████████████████████████████████████████████████████████████████████████████████████| 20361/20361 [02:19<00:00, 146.17domains/s]\n",
      "INFO:found domains at 1157381 transcript loci\n"
     ]
    }
   ],
   "source": [
    "info={'hg38':'uniprotName'}\n",
    "for file in glob(f'{path}/../references/Pfam/ucsc_table_uniprot_*.tsv'):\n",
    "    what=file[:-4].split('_')[-1]\n",
    "    if what=='hg38':\n",
    "        continue\n",
    "    print(what)\n",
    "    infocol=info.get(what, 'name')\n",
    "    isoseq.add_annotation_domains(file,category=what, progress_bar=True)\n"
   ]
  },
  {
   "cell_type": "code",
   "execution_count": 53,
   "metadata": {},
   "outputs": [
    {
     "name": "stderr",
     "output_type": "stream",
     "text": [
      "INFO:saving transcriptome to /project/42/pacbio/golong/06-isotools/golong_all/results_2022_12/01_transcriptome/golong_all_2022_12_isotools_sparse_anno_domains.pkl\n"
     ]
    }
   ],
   "source": [
    "isoseq.save(f'{out_path}/{project}_{date}_isotools_sparse_anno_domains.pkl')\n"
   ]
  },
  {
   "cell_type": "code",
   "execution_count": 29,
   "metadata": {},
   "outputs": [
    {
     "name": "stderr",
     "output_type": "stream",
     "text": [
      "INFO:extracting protein sequences...\n",
      "WARNING:CDS sequence of ENSG00000280689.3 reference transcript 1 cannot be translated.\n",
      "WARNING:CDS sequence of ENSG00000288399.2 reference transcript 1 cannot be translated.\n",
      "WARNING:CDS sequence of ENSG00000178922.17 reference transcript 0 cannot be translated.\n",
      "WARNING:CDS sequence of ENSG00000178922.17 reference transcript 7 cannot be translated.\n",
      "WARNING:CDS sequence of ENSG00000183291.17 reference transcript 0 cannot be translated.\n",
      "WARNING:CDS sequence of ENSG00000183291.17 reference transcript 3 cannot be translated.\n",
      "WARNING:CDS sequence of ENSG00000158793.14 reference transcript 2 cannot be translated.\n",
      "WARNING:CDS sequence of ENSG00000158793.14 reference transcript 8 cannot be translated.\n",
      "WARNING:CDS sequence of ENSG00000049245.13 reference transcript 0 cannot be translated.\n",
      "WARNING:CDS sequence of ENSG00000092847.13 reference transcript 3 cannot be translated.\n",
      "WARNING:CDS sequence of ENSG00000162923.17 reference transcript 0 cannot be translated.\n",
      "WARNING:CDS sequence of ENSG00000162923.17 reference transcript 6 cannot be translated.\n",
      "WARNING:CDS sequence of ENSG00000162923.17 reference transcript 13 cannot be translated.\n",
      "WARNING:CDS sequence of ENSG00000162430.17 reference transcript 1 cannot be translated.\n",
      "WARNING:CDS sequence of ENSG00000162430.17 reference transcript 2 cannot be translated.\n",
      "WARNING:CDS sequence of ENSG00000143862.8 reference transcript 0 cannot be translated.\n",
      "WARNING:CDS sequence of ENSG00000159658.14 reference transcript 7 cannot be translated.\n",
      "WARNING:CDS sequence of ENSG00000033122.21 reference transcript 0 cannot be translated.\n",
      "WARNING:CDS sequence of ENSG00000033122.21 reference transcript 1 cannot be translated.\n",
      "WARNING:CDS sequence of ENSG00000033122.21 reference transcript 2 cannot be translated.\n",
      "WARNING:CDS sequence of ENSG00000075151.21 reference transcript 4 cannot be translated.\n",
      "WARNING:CDS sequence of ENSG00000198246.9 reference transcript 0 cannot be translated.\n",
      "WARNING:CDS sequence of ENSG00000203791.15 reference transcript 3 cannot be translated.\n",
      "WARNING:CDS sequence of ENSG00000134452.20 reference transcript 1 cannot be translated.\n",
      "WARNING:CDS sequence of ENSG00000074266.22 reference transcript 3 cannot be translated.\n",
      "WARNING:CDS sequence of ENSG00000211450.10 reference transcript 1 cannot be translated.\n",
      "WARNING:CDS sequence of ENSG00000211450.10 reference transcript 3 cannot be translated.\n",
      "WARNING:CDS sequence of ENSG00000084207.18 reference transcript 0 cannot be translated.\n",
      "WARNING:CDS sequence of ENSG00000084207.18 reference transcript 1 cannot be translated.\n",
      "WARNING:CDS sequence of ENSG00000134575.13 reference transcript 1 cannot be translated.\n",
      "WARNING:CDS sequence of ENSG00000118096.10 reference transcript 0 cannot be translated.\n",
      "WARNING:CDS sequence of ENSG00000166793.13 reference transcript 3 cannot be translated.\n",
      "WARNING:CDS sequence of ENSG00000187079.20 reference transcript 0 cannot be translated.\n",
      "WARNING:CDS sequence of ENSG00000187079.20 reference transcript 3 cannot be translated.\n",
      "WARNING:CDS sequence of ENSG00000110321.19 reference transcript 0 cannot be translated.\n",
      "WARNING:CDS sequence of ENSG00000110321.19 reference transcript 1 cannot be translated.\n",
      "WARNING:CDS sequence of ENSG00000110321.19 reference transcript 3 cannot be translated.\n",
      "WARNING:CDS sequence of ENSG00000110321.19 reference transcript 4 cannot be translated.\n",
      "WARNING:CDS sequence of ENSG00000184992.13 reference transcript 1 cannot be translated.\n",
      "WARNING:CDS sequence of ENSG00000134283.18 reference transcript 1 cannot be translated.\n",
      "WARNING:CDS sequence of ENSG00000134283.18 reference transcript 13 cannot be translated.\n",
      "WARNING:CDS sequence of ENSG00000134283.18 reference transcript 15 cannot be translated.\n",
      "WARNING:CDS sequence of ENSG00000111445.14 reference transcript 5 cannot be translated.\n",
      "WARNING:CDS sequence of ENSG00000111716.14 reference transcript 4 cannot be translated.\n",
      "WARNING:CDS sequence of ENSG00000111424.12 reference transcript 2 cannot be translated.\n",
      "WARNING:CDS sequence of ENSG00000134545.14 reference transcript 0 cannot be translated.\n",
      "WARNING:CDS sequence of ENSG00000089094.19 reference transcript 5 cannot be translated.\n",
      "WARNING:CDS sequence of ENSG00000198431.16 reference transcript 1 cannot be translated.\n",
      "WARNING:CDS sequence of ENSG00000198431.16 reference transcript 8 cannot be translated.\n",
      "WARNING:CDS sequence of ENSG00000198431.16 reference transcript 9 cannot be translated.\n",
      "WARNING:CDS sequence of ENSG00000198431.16 reference transcript 11 cannot be translated.\n",
      "WARNING:CDS sequence of ENSG00000198431.16 reference transcript 13 cannot be translated.\n",
      "WARNING:CDS sequence of ENSG00000198431.16 reference transcript 19 cannot be translated.\n",
      "WARNING:CDS sequence of ENSG00000198431.16 reference transcript 22 cannot be translated.\n",
      "WARNING:CDS sequence of ENSG00000165714.11 reference transcript 1 cannot be translated.\n",
      "WARNING:CDS sequence of ENSG00000178498.16 reference transcript 0 cannot be translated.\n",
      "WARNING:CDS sequence of ENSG00000178498.16 reference transcript 4 cannot be translated.\n",
      "WARNING:CDS sequence of ENSG00000178498.16 reference transcript 5 cannot be translated.\n",
      "WARNING:CDS sequence of ENSG00000165480.16 reference transcript 2 cannot be translated.\n",
      "WARNING:CDS sequence of ENSG00000120688.9 reference transcript 0 cannot be translated.\n",
      "WARNING:CDS sequence of ENSG00000120686.12 reference transcript 2 cannot be translated.\n",
      "WARNING:CDS sequence of ENSG00000088387.19 reference transcript 3 cannot be translated.\n",
      "WARNING:CDS sequence of ENSG00000088387.19 reference transcript 4 cannot be translated.\n",
      "WARNING:CDS sequence of ENSG00000119715.15 reference transcript 0 cannot be translated.\n",
      "WARNING:CDS sequence of ENSG00000183032.12 reference transcript 1 cannot be translated.\n",
      "WARNING:CDS sequence of ENSG00000170113.16 reference transcript 0 cannot be translated.\n",
      "WARNING:CDS sequence of ENSG00000170113.16 reference transcript 1 cannot be translated.\n",
      "WARNING:CDS sequence of ENSG00000131871.15 reference transcript 0 cannot be translated.\n",
      "WARNING:CDS sequence of ENSG00000131871.15 reference transcript 1 cannot be translated.\n",
      "WARNING:CDS sequence of ENSG00000131871.15 reference transcript 3 cannot be translated.\n",
      "WARNING:CDS sequence of ENSG00000198736.12 reference transcript 0 cannot be translated.\n",
      "WARNING:CDS sequence of ENSG00000103496.15 reference transcript 2 cannot be translated.\n",
      "WARNING:CDS sequence of ENSG00000153443.13 reference transcript 1 cannot be translated.\n",
      "WARNING:CDS sequence of ENSG00000153443.13 reference transcript 7 cannot be translated.\n",
      "WARNING:CDS sequence of ENSG00000187741.15 reference transcript 24 cannot be translated.\n",
      "WARNING:CDS sequence of ENSG00000187741.15 reference transcript 27 cannot be translated.\n",
      "WARNING:CDS sequence of ENSG00000186260.17 reference transcript 10 cannot be translated.\n",
      "WARNING:CDS sequence of ENSG00000205423.11 reference transcript 9 cannot be translated.\n",
      "WARNING:CDS sequence of ENSG00000179918.19 reference transcript 0 cannot be translated.\n",
      "WARNING:CDS sequence of ENSG00000175155.11 reference transcript 4 cannot be translated.\n",
      "WARNING:CDS sequence of ENSG00000115268.10 reference transcript 3 cannot be translated.\n",
      "WARNING:CDS sequence of ENSG00000178980.15 reference transcript 2 cannot be translated.\n",
      "WARNING:CDS sequence of ENSG00000178980.15 reference transcript 5 cannot be translated.\n",
      "WARNING:CDS sequence of ENSG00000178980.15 reference transcript 6 cannot be translated.\n",
      "WARNING:CDS sequence of ENSG00000196605.7 reference transcript 1 cannot be translated.\n",
      "WARNING:CDS sequence of ENSG00000196605.7 reference transcript 2 cannot be translated.\n",
      "WARNING:CDS sequence of ENSG00000105146.13 reference transcript 0 cannot be translated.\n",
      "WARNING:CDS sequence of ENSG00000105146.13 reference transcript 1 cannot be translated.\n",
      "WARNING:CDS sequence of ENSG00000105146.13 reference transcript 5 cannot be translated.\n",
      "WARNING:CDS sequence of ENSG00000167468.18 reference transcript 1 cannot be translated.\n",
      "WARNING:CDS sequence of ENSG00000167468.18 reference transcript 2 cannot be translated.\n",
      "WARNING:CDS sequence of ENSG00000167468.18 reference transcript 3 cannot be translated.\n",
      "WARNING:CDS sequence of ENSG00000167468.18 reference transcript 5 cannot be translated.\n",
      "WARNING:CDS sequence of ENSG00000071909.19 reference transcript 3 cannot be translated.\n",
      "WARNING:CDS sequence of ENSG00000071909.19 reference transcript 4 cannot be translated.\n",
      "WARNING:CDS sequence of ENSG00000128694.12 reference transcript 1 cannot be translated.\n",
      "WARNING:CDS sequence of ENSG00000067066.17 reference transcript 7 cannot be translated.\n",
      "WARNING:CDS sequence of ENSG00000138018.18 reference transcript 2 cannot be translated.\n",
      "WARNING:CDS sequence of ENSG00000198612.11 reference transcript 0 cannot be translated.\n",
      "WARNING:CDS sequence of ENSG00000172845.17 reference transcript 4 cannot be translated.\n",
      "WARNING:CDS sequence of ENSG00000172845.17 reference transcript 7 cannot be translated.\n",
      "WARNING:CDS sequence of ENSG00000125611.15 reference transcript 1 cannot be translated.\n",
      "WARNING:CDS sequence of ENSG00000125611.15 reference transcript 3 cannot be translated.\n",
      "WARNING:CDS sequence of ENSG00000082153.18 reference transcript 6 cannot be translated.\n",
      "WARNING:CDS sequence of ENSG00000196141.14 reference transcript 19 cannot be translated.\n",
      "WARNING:CDS sequence of ENSG00000014641.21 reference transcript 5 cannot be translated.\n",
      "WARNING:CDS sequence of ENSG00000087460.27 reference transcript 20 cannot be translated.\n",
      "WARNING:CDS sequence of ENSG00000125510.18 reference transcript 3 cannot be translated.\n",
      "WARNING:CDS sequence of ENSG00000205758.12 reference transcript 9 cannot be translated.\n",
      "WARNING:CDS sequence of ENSG00000154642.11 reference transcript 2 cannot be translated.\n",
      "WARNING:CDS sequence of ENSG00000184470.21 reference transcript 0 cannot be translated.\n",
      "WARNING:CDS sequence of ENSG00000184470.21 reference transcript 2 cannot be translated.\n",
      "WARNING:CDS sequence of ENSG00000184470.21 reference transcript 4 cannot be translated.\n",
      "WARNING:CDS sequence of ENSG00000184470.21 reference transcript 7 cannot be translated.\n",
      "WARNING:CDS sequence of ENSG00000184470.21 reference transcript 8 cannot be translated.\n",
      "WARNING:CDS sequence of ENSG00000184470.21 reference transcript 9 cannot be translated.\n",
      "WARNING:CDS sequence of ENSG00000184470.21 reference transcript 11 cannot be translated.\n",
      "WARNING:CDS sequence of ENSG00000073169.14 reference transcript 1 cannot be translated.\n",
      "WARNING:CDS sequence of ENSG00000188677.15 reference transcript 5 cannot be translated.\n",
      "WARNING:CDS sequence of ENSG00000198832.10 reference transcript 0 cannot be translated.\n",
      "WARNING:CDS sequence of ENSG00000198832.10 reference transcript 2 cannot be translated.\n",
      "WARNING:CDS sequence of ENSG00000133488.15 reference transcript 3 cannot be translated.\n",
      "WARNING:CDS sequence of ENSG00000100027.17 reference transcript 2 cannot be translated.\n",
      "WARNING:CDS sequence of ENSG00000196588.20 reference transcript 0 cannot be translated.\n",
      "WARNING:CDS sequence of ENSG00000196588.20 reference transcript 6 cannot be translated.\n",
      "WARNING:CDS sequence of ENSG00000196588.20 reference transcript 7 cannot be translated.\n",
      "WARNING:CDS sequence of ENSG00000197763.19 reference transcript 1 cannot be translated.\n",
      "WARNING:CDS sequence of ENSG00000197763.19 reference transcript 3 cannot be translated.\n",
      "WARNING:CDS sequence of ENSG00000233276.7 reference transcript 0 cannot be translated.\n",
      "WARNING:CDS sequence of ENSG00000233276.7 reference transcript 1 cannot be translated.\n",
      "WARNING:CDS sequence of ENSG00000233276.7 reference transcript 4 cannot be translated.\n",
      "WARNING:CDS sequence of ENSG00000233276.7 reference transcript 5 cannot be translated.\n",
      "WARNING:CDS sequence of ENSG00000163517.15 reference transcript 2 cannot be translated.\n",
      "WARNING:CDS sequence of ENSG00000163517.15 reference transcript 3 cannot be translated.\n",
      "WARNING:CDS sequence of ENSG00000163517.15 reference transcript 5 cannot be translated.\n",
      "WARNING:CDS sequence of ENSG00000163517.15 reference transcript 6 cannot be translated.\n",
      "WARNING:CDS sequence of ENSG00000163517.15 reference transcript 7 cannot be translated.\n",
      "WARNING:CDS sequence of ENSG00000198843.13 reference transcript 3 cannot be translated.\n",
      "WARNING:CDS sequence of ENSG00000169255.15 reference transcript 26 cannot be translated.\n",
      "WARNING:CDS sequence of ENSG00000169255.15 reference transcript 28 cannot be translated.\n",
      "WARNING:CDS sequence of ENSG00000169255.15 reference transcript 37 cannot be translated.\n",
      "WARNING:CDS sequence of ENSG00000169255.15 reference transcript 38 cannot be translated.\n",
      "WARNING:CDS sequence of ENSG00000211456.13 reference transcript 11 cannot be translated.\n",
      "WARNING:CDS sequence of ENSG00000113811.11 reference transcript 0 cannot be translated.\n",
      "WARNING:CDS sequence of ENSG00000159733.14 reference transcript 5 cannot be translated.\n",
      "WARNING:CDS sequence of ENSG00000164096.13 reference transcript 0 cannot be translated.\n",
      "WARNING:CDS sequence of ENSG00000164096.13 reference transcript 1 cannot be translated.\n",
      "WARNING:CDS sequence of ENSG00000164904.18 reference transcript 0 cannot be translated.\n",
      "WARNING:CDS sequence of ENSG00000131508.16 reference transcript 0 cannot be translated.\n",
      "WARNING:CDS sequence of ENSG00000131508.16 reference transcript 5 cannot be translated.\n",
      "WARNING:CDS sequence of ENSG00000164292.13 reference transcript 4 cannot be translated.\n",
      "WARNING:CDS sequence of ENSG00000164292.13 reference transcript 5 cannot be translated.\n",
      "WARNING:CDS sequence of ENSG00000145779.8 reference transcript 0 cannot be translated.\n",
      "WARNING:CDS sequence of ENSG00000250722.6 reference transcript 0 cannot be translated.\n",
      "WARNING:CDS sequence of ENSG00000250722.6 reference transcript 2 cannot be translated.\n",
      "WARNING:CDS sequence of ENSG00000250722.6 reference transcript 3 cannot be translated.\n",
      "WARNING:CDS sequence of ENSG00000250722.6 reference transcript 4 cannot be translated.\n",
      "WARNING:CDS sequence of ENSG00000280987.4 reference transcript 5 cannot be translated.\n",
      "WARNING:CDS sequence of ENSG00000015479.20 reference transcript 5 cannot be translated.\n",
      "WARNING:CDS sequence of ENSG00000251201.8 reference transcript 1 cannot be translated.\n",
      "WARNING:CDS sequence of ENSG00000211445.12 reference transcript 2 cannot be translated.\n",
      "WARNING:CDS sequence of ENSG00000211445.12 reference transcript 6 cannot be translated.\n",
      "WARNING:CDS sequence of ENSG00000198663.17 reference transcript 1 cannot be translated.\n",
      "WARNING:CDS sequence of ENSG00000123505.19 reference transcript 5 cannot be translated.\n",
      "WARNING:CDS sequence of ENSG00000112339.15 reference transcript 10 cannot be translated.\n",
      "WARNING:CDS sequence of ENSG00000007866.22 reference transcript 1 cannot be translated.\n",
      "WARNING:CDS sequence of ENSG00000007866.22 reference transcript 2 cannot be translated.\n",
      "WARNING:CDS sequence of ENSG00000124783.14 reference transcript 6 cannot be translated.\n",
      "WARNING:CDS sequence of ENSG00000118518.16 reference transcript 0 cannot be translated.\n",
      "WARNING:CDS sequence of ENSG00000118518.16 reference transcript 1 cannot be translated.\n",
      "WARNING:CDS sequence of ENSG00000118518.16 reference transcript 4 cannot be translated.\n",
      "WARNING:CDS sequence of ENSG00000118518.16 reference transcript 7 cannot be translated.\n",
      "WARNING:CDS sequence of ENSG00000118518.16 reference transcript 13 cannot be translated.\n",
      "WARNING:CDS sequence of ENSG00000004866.22 reference transcript 15 cannot be translated.\n",
      "WARNING:CDS sequence of ENSG00000185055.11 reference transcript 1 cannot be translated.\n",
      "WARNING:CDS sequence of ENSG00000106443.17 reference transcript 2 cannot be translated.\n",
      "WARNING:CDS sequence of ENSG00000106443.17 reference transcript 3 cannot be translated.\n",
      "WARNING:CDS sequence of ENSG00000048405.10 reference transcript 1 cannot be translated.\n",
      "WARNING:CDS sequence of ENSG00000048405.10 reference transcript 2 cannot be translated.\n",
      "WARNING:CDS sequence of ENSG00000048405.10 reference transcript 3 cannot be translated.\n",
      "WARNING:CDS sequence of ENSG00000106868.17 reference transcript 0 cannot be translated.\n",
      "WARNING:CDS sequence of ENSG00000119125.17 reference transcript 3 cannot be translated.\n",
      "WARNING:CDS sequence of ENSG00000070061.16 reference transcript 33 cannot be translated.\n",
      "WARNING:CDS sequence of ENSG00000198899.2 reference transcript 0 cannot be translated.\n",
      "WARNING:CDS sequence of ENSG00000198712.1 reference transcript 0 cannot be translated.\n",
      "WARNING:CDS sequence of ENSG00000196368.5 reference transcript 0 cannot be translated.\n",
      "WARNING:CDS sequence of ENSG00000276537.4 reference transcript 13 cannot be translated.\n",
      "WARNING:CDS sequence of ENSG00000276887.4 reference transcript 13 cannot be translated.\n",
      "WARNING:CDS sequence of ENSG00000158887.19 reference transcript 2 cannot be translated.\n",
      "WARNING:CDS sequence of ENSG00000160097.20 reference transcript 2 cannot be translated.\n",
      "WARNING:CDS sequence of ENSG00000160097.20 reference transcript 3 cannot be translated.\n",
      "WARNING:CDS sequence of ENSG00000211452.11 reference transcript 2 cannot be translated.\n",
      "WARNING:CDS sequence of ENSG00000211452.11 reference transcript 5 cannot be translated.\n",
      "WARNING:CDS sequence of ENSG00000211452.11 reference transcript 14 cannot be translated.\n",
      "WARNING:CDS sequence of ENSG00000163239.12 reference transcript 0 cannot be translated.\n",
      "WARNING:CDS sequence of ENSG00000163239.12 reference transcript 1 cannot be translated.\n",
      "WARNING:CDS sequence of ENSG00000082482.14 reference transcript 5 cannot be translated.\n",
      "WARNING:CDS sequence of ENSG00000214435.8 reference transcript 0 cannot be translated.\n",
      "WARNING:CDS sequence of ENSG00000214435.8 reference transcript 1 cannot be translated.\n",
      "WARNING:CDS sequence of ENSG00000181017.6 reference transcript 0 cannot be translated.\n",
      "WARNING:CDS sequence of ENSG00000176153.12 reference transcript 2 cannot be translated.\n",
      "WARNING:CDS sequence of ENSG00000182652.4 reference transcript 0 cannot be translated.\n",
      "WARNING:CDS sequence of ENSG00000211448.13 reference transcript 0 cannot be translated.\n",
      "WARNING:CDS sequence of ENSG00000211448.13 reference transcript 2 cannot be translated.\n",
      "WARNING:CDS sequence of ENSG00000197406.7 reference transcript 0 cannot be translated.\n",
      "WARNING:CDS sequence of ENSG00000188322.8 reference transcript 0 cannot be translated.\n",
      "WARNING:CDS sequence of ENSG00000213859.7 reference transcript 1 cannot be translated.\n",
      "WARNING:CDS sequence of ENSG00000171885.18 reference transcript 1 cannot be translated.\n",
      "WARNING:CDS sequence of ENSG00000185988.15 reference transcript 0 cannot be translated.\n",
      "WARNING:CDS sequence of ENSG00000185988.15 reference transcript 1 cannot be translated.\n",
      "WARNING:CDS sequence of ENSG00000185988.15 reference transcript 2 cannot be translated.\n",
      "WARNING:CDS sequence of ENSG00000185988.15 reference transcript 3 cannot be translated.\n",
      "WARNING:CDS sequence of ENSG00000185988.15 reference transcript 4 cannot be translated.\n",
      "WARNING:CDS sequence of ENSG00000185988.15 reference transcript 5 cannot be translated.\n",
      "WARNING:CDS sequence of ENSG00000186838.13 reference transcript 2 cannot be translated.\n",
      "WARNING:CDS sequence of ENSG00000288649.1 reference transcript 1 cannot be translated.\n",
      "WARNING:CDS sequence of ENSG00000138944.8 reference transcript 0 cannot be translated.\n",
      "WARNING:CDS sequence of ENSG00000174963.18 reference transcript 0 cannot be translated.\n",
      "WARNING:CDS sequence of ENSG00000174963.18 reference transcript 1 cannot be translated.\n",
      "WARNING:CDS sequence of ENSG00000174963.18 reference transcript 2 cannot be translated.\n",
      "WARNING:CDS sequence of ENSG00000174963.18 reference transcript 6 cannot be translated.\n",
      "WARNING:CDS sequence of ENSG00000174963.18 reference transcript 7 cannot be translated.\n",
      "WARNING:CDS sequence of ENSG00000174963.18 reference transcript 11 cannot be translated.\n",
      "WARNING:CDS sequence of ENSG00000056291.17 reference transcript 2 cannot be translated.\n",
      "WARNING:CDS sequence of ENSG00000109339.24 reference transcript 15 cannot be translated.\n",
      "WARNING:CDS sequence of ENSG00000171509.16 reference transcript 3 cannot be translated.\n",
      "WARNING:CDS sequence of ENSG00000198704.9 reference transcript 1 cannot be translated.\n",
      "WARNING:CDS sequence of ENSG00000198704.9 reference transcript 2 cannot be translated.\n",
      "WARNING:CDS sequence of ENSG00000112414.15 reference transcript 0 cannot be translated.\n",
      "WARNING:CDS sequence of ENSG00000112414.15 reference transcript 1 cannot be translated.\n",
      "WARNING:CDS sequence of ENSG00000112414.15 reference transcript 3 cannot be translated.\n",
      "WARNING:CDS sequence of ENSG00000112414.15 reference transcript 4 cannot be translated.\n",
      "WARNING:CDS sequence of ENSG00000229937.9 reference transcript 0 cannot be translated.\n",
      "WARNING:CDS sequence of ENSG00000106633.17 reference transcript 0 cannot be translated.\n",
      "WARNING:CDS sequence of ENSG00000165125.22 reference transcript 0 cannot be translated.\n",
      "WARNING:CDS sequence of ENSG00000082556.14 reference transcript 1 cannot be translated.\n",
      "WARNING:CDS sequence of ENSG00000107147.14 reference transcript 17 cannot be translated.\n",
      "WARNING:CDS sequence of ENSG00000107147.14 reference transcript 18 cannot be translated.\n",
      "WARNING:CDS sequence of ENSG00000107147.14 reference transcript 19 cannot be translated.\n",
      "WARNING:CDS sequence of ENSG00000122756.15 reference transcript 0 cannot be translated.\n",
      "WARNING:CDS sequence of ENSG00000122756.15 reference transcript 1 cannot be translated.\n",
      "WARNING:CDS sequence of ENSG00000122756.15 reference transcript 2 cannot be translated.\n",
      "WARNING:CDS sequence of ENSG00000228253.1 reference transcript 0 cannot be translated.\n",
      "WARNING:CDS sequence of ENSG00000147256.12 reference transcript 4 cannot be translated.\n",
      "INFO:found 139994 different protein sequences from 201965 coding transcripts.\n",
      "INFO:aligning 19632 hmmer domain models to protein sequences...\n",
      "100%|██████████████████████████████████████████████████████████████████████████████████████████████████████| 19632/19632 [4:00:57<00:00,  1.36domains/s]\n",
      "INFO:found domains at 974291 loci for 67627 reference transcripts and at 1379423 loci for 77658 long read transcripts.\n",
      "INFO:saving transcriptome to /project/42/pacbio/golong/06-isotools/golong_all/results_2022_12/01_transcriptome/golong_all_2022_12_isotools_sparse_domains.pkl\n"
     ]
    }
   ],
   "source": [
    "from isotools.domains import import_hmmer_models\n",
    "pfam_models=import_hmmer_models(f'{path}/../references/Pfam/')\n",
    "isoseq.add_hmmer_domains(domain_models=pfam_models, genome=genome_fn, query='SUBSTANTIAL_1', ref_query=\"PROTEIN_CODING\", min_coverage=5, progress_bar=True)\n",
    "isoseq.save(f'{out_path}/{project}_{date}_isotools_sparse_domains.pkl')\n"
   ]
  },
  {
   "cell_type": "code",
   "execution_count": null,
   "metadata": {},
   "outputs": [],
   "source": [
    "isoseq['ENSG00000276464.4'].ref_transcripts[3]"
   ]
  },
  {
   "cell_type": "code",
   "execution_count": null,
   "metadata": {},
   "outputs": [],
   "source": [
    "isoseq.sample_table"
   ]
  },
  {
   "cell_type": "code",
   "execution_count": 14,
   "metadata": {},
   "outputs": [],
   "source": [
    "groups=isoseq.groups()"
   ]
  },
  {
   "cell_type": "markdown",
   "metadata": {},
   "source": [
    "## Output table and gtf file"
   ]
  },
  {
   "cell_type": "code",
   "execution_count": 34,
   "metadata": {
    "tags": []
   },
   "outputs": [
    {
     "name": "stderr",
     "output_type": "stream",
     "text": [
      "100%|██████████████████████████████████████████████████████████████████████████████████████████████████████| 149009/149009 [00:26<00:00, 5718.31genes/s]\n"
     ]
    },
    {
     "name": "stdout",
     "output_type": "stream",
     "text": [
      " 17668 genes with 89659 transcripts\n",
      " 1073 novel genes with 2109 transcripts\n",
      " 16595 known genes have {'NIC': 32181, 'FSM': 28261, 'NNC': 19857, 'ISM': 6130, 'NOVEL': 1121} transcripts\n"
     ]
    },
    {
     "data": {
      "text/plain": [
       "1     4737\n",
       "2     2059\n",
       "3     1537\n",
       "4     1369\n",
       "5     1299\n",
       "6     1150\n",
       "7      987\n",
       "8      879\n",
       "9      773\n",
       "10     677\n",
       "11     552\n",
       "12     474\n",
       "13     335\n",
       "14     235\n",
       "15     177\n",
       "16     147\n",
       "17      92\n",
       "18      78\n",
       "19      44\n",
       "20      29\n",
       "21      15\n",
       "23       8\n",
       "22       6\n",
       "24       5\n",
       "27       2\n",
       "25       1\n",
       "28       1\n",
       "dtype: int64"
      ]
     },
     "execution_count": 34,
     "metadata": {},
     "output_type": "execute_result"
    }
   ],
   "source": [
    "#export table of transcripts\n",
    "#isoseq.add_filter( 'SUBSTANTIAL', 'g.coverage.sum() * .05 < g.coverage[:,trid].sum()',context='transcript') # at least 5 % (default)\n",
    "transcript_tab=isoseq.transcript_table( groups=groups,tpm=True,coverage=True,  min_coverage=5, progress_bar=True, query='SUBSTANTIAL and not (NOVEL_TRANSCRIPT and UNSPLICED)')\n",
    "orf=[]\n",
    "default_orf=(None, None, {'CDS':0, 'NMD':True})\n",
    "for idx,row in transcript_tab.iterrows():\n",
    "    g=isoseq[row.gene_id]\n",
    "    tr=g.transcripts[row.transcript_nr]\n",
    "    tr_orf=tr.get('ORF', default_orf)\n",
    "    orf.append((tr_orf[0], tr_orf[1], tr_orf[2]['CDS'], tr_orf[2]['NMD']))\n",
    "orf=pd.DataFrame(orf, columns=['ORF_start', 'ORF_end', 'ORF_length', 'ORF_NMD'])\n",
    "col_idx=list(transcript_tab.columns).index('novelty_subclasses')+1\n",
    "for i, col in enumerate(orf.columns):\n",
    "    transcript_tab.insert(col_idx+i ,col, orf[col])\n",
    "transcript_tab.to_csv(f'{out_path}/{project}_{date}_substantial_transcripts.csv.gz', index=False, sep='\\t')\n",
    "transcript_tab\n",
    "ntr=len(transcript_tab)\n",
    "ngene=len(set(transcript_tab.gene_id))\n",
    "novel_g=transcript_tab.gene_id.str[:8]=='PB_novel'\n",
    "\n",
    "n_novel=len(set(transcript_tab.gene_id.loc[novel_g]))\n",
    "print(f' {ngene} genes with {ntr} transcripts')\n",
    "print(f' {n_novel} novel genes with {sum(novel_g)} transcripts')\n",
    "novel_cat=transcript_tab.loc[~novel_g].novelty_class.value_counts().to_dict()\n",
    "print(f' {ngene - n_novel} known genes have {novel_cat} transcripts')\n",
    "# 17668 genes with 89659 transcripts\n",
    "# 1073 novel genes with 2109 transcripts\n",
    "# 16595 known genes have {'NIC': 32181, 'FSM': 28261, 'NNC': 19857, 'ISM': 6130, 'NOVEL': 1121} transcripts\n",
    "# -> 1121+2109=3230 novel transcripts\n",
    "\n",
    "\n",
    "(transcript_tab.groupby('gene_id').size()).value_counts() # transcripts per gene\n"
   ]
  },
  {
   "cell_type": "code",
   "execution_count": 35,
   "metadata": {},
   "outputs": [
    {
     "name": "stderr",
     "output_type": "stream",
     "text": [
      "INFO:writing gzip compressed gtf file to /project/42/pacbio/golong/06-isotools/golong_all/results_2022_12/01_transcriptome/golong_all_2022_12_substantial_transcripts.gtf.gz\n"
     ]
    }
   ],
   "source": [
    "isoseq.write_gtf(f'{out_path}/{project}_{date}_substantial_transcripts.gtf.gz', source='isoseq', min_coverage=5,  gzip=True, query='SUBSTANTIAL and not (NOVEL_TRANSCRIPT and UNSPLICED)')\n"
   ]
  },
  {
   "cell_type": "code",
   "execution_count": 36,
   "metadata": {},
   "outputs": [
    {
     "name": "stderr",
     "output_type": "stream",
     "text": [
      "100%|██████████████████████████████████████████████████████████████████████████████████████████████████████| 149009/149009 [00:16<00:00, 9101.61genes/s]\n"
     ]
    }
   ],
   "source": [
    "transcript_tab_filter=isoseq.transcript_table(samples=isoseq.samples, groups=groups,tpm=True,  min_coverage=10, query='not (RTTS or INTERNAL_PRIMING)', progress_bar=True)\n",
    "transcript_tab_filter.index=[f'{g}_{nr}' for g,nr in zip(transcript_tab_filter.gene_id, transcript_tab_filter.transcript_nr)]\n",
    "#transcript_tab_substantial.to_csv(f'{out_path}/{project}_{date}_filtered_transcripts.csv', index=False, sep='\\t')\n",
    "#transcript_tab_substantial.head()\n",
    "transcript_tab_ncol=len(transcript_tab_filter.columns)\n"
   ]
  },
  {
   "cell_type": "code",
   "execution_count": 38,
   "metadata": {},
   "outputs": [
    {
     "name": "stderr",
     "output_type": "stream",
     "text": [
      "INFO:writing gtf file to /project/42/pacbio/golong/06-isotools/golong_all/results_2022_12/01_transcriptome/golong_all_2022_12_filtered_transcripts.gtf\n"
     ]
    }
   ],
   "source": [
    "isoseq.write_gtf(f'{out_path}/{project}_{date}_filtered_transcripts.gtf', source='isoseq', min_coverage=10, query='not (RTTS or INTERNAL_PRIMING)', gzip=False)\n"
   ]
  },
  {
   "cell_type": "code",
   "execution_count": 39,
   "metadata": {},
   "outputs": [],
   "source": [
    "#todo: transcripts involved in differential events? (in 04_differential_splicing)"
   ]
  },
  {
   "cell_type": "code",
   "execution_count": 40,
   "metadata": {},
   "outputs": [],
   "source": [
    "gene_tab=isoseq.gene_table()\n",
    "gene_tab.to_csv(f'{out_path}/{project}_{date}_all_genes.csv')"
   ]
  },
  {
   "cell_type": "code",
   "execution_count": 42,
   "metadata": {},
   "outputs": [],
   "source": [
    "gene_counts={g.id:g.coverage.sum(1) for g in isoseq}\n",
    "gene_counts_df=pd.DataFrame(gene_counts.values(), index=gene_counts.keys(), columns=isoseq.samples)\n",
    "gene_counts_df.to_csv(f'{out_path}/{project}_{date}_all_genes_counts.csv')"
   ]
  },
  {
   "cell_type": "markdown",
   "metadata": {},
   "source": []
  },
  {
   "cell_type": "code",
   "execution_count": null,
   "metadata": {},
   "outputs": [],
   "source": []
  },
  {
   "cell_type": "markdown",
   "metadata": {},
   "source": [
    "# Extract introns"
   ]
  },
  {
   "cell_type": "code",
   "execution_count": 8,
   "metadata": {},
   "outputs": [
    {
     "name": "stderr",
     "output_type": "stream",
     "text": [
      "100%|██████████| 149009/149009 [04:25<00:00, 561.32genes/s]\n"
     ]
    },
    {
     "name": "stdout",
     "output_type": "stream",
     "text": [
      "106049 3'AS >10 reads in K562 samples\n"
     ]
    }
   ],
   "source": [
    "#get all introns with at least 100 reads in k562\n",
    "th=10\n",
    "make_introns=True\n",
    "if make_introns:\n",
    "    grp=isoseq.groups()\n",
    "    introns=[]\n",
    "    sa=[i for i, sa in enumerate(isoseq.samples) if sa in grp['K562_wt']+grp['K562_mut']]\n",
    "    for g in isoseq.iter_genes(progress_bar=True):\n",
    "        cov=g.coverage[sa,:]\n",
    "        if cov.sum()>th:\n",
    "            sg=g.segment_graph\n",
    "            for ni, n in enumerate(sg):\n",
    "                suc={}\n",
    "                for trid,nj in n.suc.items():\n",
    "                    if n.end < sg[nj].start:\n",
    "                        suc.setdefault(nj,[]).append(trid)\n",
    "                for nj,trids in suc.items():\n",
    "                    if cov[:,trids].sum()>th: \n",
    "                        # print(ni,nj)\n",
    "                        introns.append((g.name, g.chrom, g.strand,n.end, sg[nj].start))\n",
    "\n",
    "    introns=pd.DataFrame(introns,columns=['name', 'chrom', 'strand','start','end'])\n",
    "    introns.to_csv(f'{out_path}/{project}_{date}_K562_introns_{th}.csv')\n",
    "    print(f\"{len(introns)} 3'AS >{th} reads in K562 samples\")\n",
    "# 45964 3'AS >100 reads in K562 samples\n",
    "# 106049 3'AS >10 reads in K562 samples"
   ]
  },
  {
   "cell_type": "code",
   "execution_count": 11,
   "metadata": {},
   "outputs": [
    {
     "name": "stderr",
     "output_type": "stream",
     "text": [
      "100%|██████████| 149009/149009 [00:08<00:00, 17317.93genes/s]\n"
     ]
    },
    {
     "name": "stdout",
     "output_type": "stream",
     "text": [
      "432405 3'AS sites in reference\n"
     ]
    }
   ],
   "source": [
    "#get all 3' Splice sites from reference\n",
    "make_introns=True\n",
    "if make_introns:\n",
    "    introns=[]\n",
    "    for g in isoseq.iter_genes(progress_bar=True, query='not NOVEL_GENE'):\n",
    "        sg=g.ref_segment_graph\n",
    "        for ni, n in enumerate(sg):\n",
    "            suc={}\n",
    "            for trid,nj in n.suc.items():\n",
    "                if n.end < sg[nj].start:\n",
    "                    suc.setdefault(nj,0)\n",
    "                    suc[nj]+=1\n",
    "            for nj,_ in suc.items():\n",
    "                introns.append((g.name, g.chrom, g.strand,n.end, sg[nj].start))\n",
    "\n",
    "    introns=pd.DataFrame(introns,columns=['name', 'chrom', 'strand','start','end'])\n",
    "    introns.to_csv(f'{out_path}/{project}_{date}_reference_introns.csv')\n",
    "    print(f\"{len(introns)} 3'AS sites in reference\")"
   ]
  },
  {
   "cell_type": "code",
   "execution_count": 13,
   "metadata": {},
   "outputs": [],
   "source": [
    "total_len=0\n",
    "n_genes=0\n",
    "for g in isoseq:\n",
    "    if g.coverage[sa,:].sum()>10:\n",
    "    #if g.coverage.sum()>10:\n",
    "        n_genes+=1\n",
    "        total_len+=(g.end-g.start)\n",
    "    "
   ]
  },
  {
   "cell_type": "code",
   "execution_count": 14,
   "metadata": {},
   "outputs": [
    {
     "name": "stdout",
     "output_type": "stream",
     "text": [
      "total length of gene bodis of 10513 expressed genes: 692940528\n"
     ]
    }
   ],
   "source": [
    "print(f\"total length of gene bodis of {n_genes} expressed genes: {total_len}\")\n"
   ]
  },
  {
   "cell_type": "markdown",
   "metadata": {},
   "source": [
    "## Extract AS events for rmats"
   ]
  },
  {
   "cell_type": "code",
   "execution_count": 5,
   "metadata": {},
   "outputs": [
    {
     "name": "stderr",
     "output_type": "stream",
     "text": [
      "100%|██████████| 149009/149009 [18:50<00:00, 131.79genes/s]\n"
     ]
    }
   ],
   "source": [
    "isoseq.export_alternative_splicing(f'{out_path}/all_events_rMATS/', out_format='mats', reference=False, min_total=100, min_alt_fraction=0.1, progress_bar=True)"
   ]
  },
  {
   "cell_type": "code",
   "execution_count": 15,
   "metadata": {},
   "outputs": [
    {
     "name": "stderr",
     "output_type": "stream",
     "text": [
      "100%|██████████| 149009/149009 [00:20<00:00, 7106.12genes/s]\n"
     ]
    }
   ],
   "source": [
    "isoseq.export_alternative_splicing(f'{out_path}/gencode_rMATS/', out_format='mats', reference=True, progress_bar=True)"
   ]
  },
  {
   "cell_type": "markdown",
   "metadata": {},
   "source": [
    "## Comprehensive rMats junction annotation\n",
    "* junctions\n",
    "    * read GENCODE junction and isotools junction\n",
    "    * compute union\n",
    "* gtf:\n",
    "    * make gtf without FSM\n",
    "    * concatenate to GENCODE gtf\n"
   ]
  },
  {
   "cell_type": "code",
   "execution_count": 57,
   "metadata": {},
   "outputs": [
    {
     "name": "stdout",
     "output_type": "stream",
     "text": [
      "SE\n",
      "imported 49486 events from GENCODE and 579081 events from rMATS\n",
      "merged  579175 events (99.81% IoMinor)\n",
      "+: merged  292936 events from [25902,292886] (99.81% IoMinor)\n",
      "-: merged  286239 events from [23584,286195] (99.81% IoMinor)\n",
      "RI\n",
      "imported 29342 events from GENCODE and 9866 events from rMATS\n",
      "merged  30647 events (86.77% IoMinor)\n",
      "+: merged  15701 events from [14991,5029] (85.88% IoMinor)\n",
      "-: merged  14946 events from [14351,4837] (87.70% IoMinor)\n",
      "MXE\n",
      "imported 8888 events from GENCODE and 172679 events from rMATS\n",
      "merged  177674 events (43.80% IoMinor)\n",
      "+: merged  89777 events from [4611,87263] (45.48% IoMinor)\n",
      "-: merged  87897 events from [4277,85416] (41.99% IoMinor)\n",
      "A3SS\n",
      "imported 21213 events from GENCODE and 25125 events from rMATS\n",
      "merged  34555 events (55.55% IoMinor)\n",
      "+: merged  17741 events from [10860,12947] (55.86% IoMinor)\n",
      "-: merged  16814 events from [10353,12178] (55.22% IoMinor)\n",
      "A5SS\n",
      "imported 18089 events from GENCODE and 17291 events from rMATS\n",
      "merged  27958 events (42.92% IoMinor)\n",
      "+: merged  14773 events from [9816,8804] (43.70% IoMinor)\n",
      "-: merged  13185 events from [8273,8487] (43.21% IoMinor)\n",
      "                  GeneID geneSymbol    chr strand  longExonStart_0base  \\\n",
      "4036  ENSG00000161547.17      SRSF2  chr17      -             76735617   \n",
      "4037  ENSG00000161547.17      SRSF2  chr17      -             76736798   \n",
      "4038  ENSG00000161547.17      SRSF2  chr17      -             76736798   \n",
      "\n",
      "      longExonEnd   shortES   shortEE  flankingES  flankingEE  \n",
      "4036     76735875  76735771  76735875    76735136    76735158  \n",
      "4037     76737308  76736834  76737308    76736404    76736443  \n",
      "4038     76737308  76736834  76737308    76736443    76736464  \n"
     ]
    },
    {
     "data": {
      "text/html": [
       "<div>\n",
       "<style scoped>\n",
       "    .dataframe tbody tr th:only-of-type {\n",
       "        vertical-align: middle;\n",
       "    }\n",
       "\n",
       "    .dataframe tbody tr th {\n",
       "        vertical-align: top;\n",
       "    }\n",
       "\n",
       "    .dataframe thead th {\n",
       "        text-align: right;\n",
       "    }\n",
       "</style>\n",
       "<table border=\"1\" class=\"dataframe\">\n",
       "  <thead>\n",
       "    <tr style=\"text-align: right;\">\n",
       "      <th></th>\n",
       "      <th>GeneID</th>\n",
       "      <th>geneSymbol</th>\n",
       "      <th>chr</th>\n",
       "      <th>strand</th>\n",
       "      <th>longExonStart_0base</th>\n",
       "      <th>longExonEnd</th>\n",
       "      <th>shortES</th>\n",
       "      <th>shortEE</th>\n",
       "      <th>flankingES</th>\n",
       "      <th>flankingEE</th>\n",
       "    </tr>\n",
       "  </thead>\n",
       "  <tbody>\n",
       "    <tr>\n",
       "      <th>1081</th>\n",
       "      <td>ENSG00000161547.17</td>\n",
       "      <td>SRSF2</td>\n",
       "      <td>chr17</td>\n",
       "      <td>-</td>\n",
       "      <td>76736798</td>\n",
       "      <td>76737331</td>\n",
       "      <td>76736834</td>\n",
       "      <td>76737331</td>\n",
       "      <td>76736153</td>\n",
       "      <td>76736464</td>\n",
       "    </tr>\n",
       "  </tbody>\n",
       "</table>\n",
       "</div>"
      ],
      "text/plain": [
       "                  GeneID geneSymbol    chr strand  longExonStart_0base  \\\n",
       "1081  ENSG00000161547.17      SRSF2  chr17      -             76736798   \n",
       "\n",
       "      longExonEnd   shortES   shortEE  flankingES  flankingEE  \n",
       "1081     76737331  76736834  76737331    76736153    76736464  "
      ]
     },
     "execution_count": 57,
     "metadata": {},
     "output_type": "execute_result"
    }
   ],
   "source": []
  },
  {
   "cell_type": "code",
   "execution_count": null,
   "metadata": {},
   "outputs": [],
   "source": []
  }
 ],
 "metadata": {
  "kernelspec": {
   "display_name": "Python 3 (ipykernel)",
   "language": "python",
   "name": "python3"
  },
  "language_info": {
   "codemirror_mode": {
    "name": "ipython",
    "version": 3
   },
   "file_extension": ".py",
   "mimetype": "text/x-python",
   "name": "python",
   "nbconvert_exporter": "python",
   "pygments_lexer": "ipython3",
   "version": "3.10.8"
  }
 },
 "nbformat": 4,
 "nbformat_minor": 4
}
