{
 "cells": [
  {
   "cell_type": "markdown",
   "metadata": {},
   "source": [
    "# rMATS integration\n",
    "\n",
    "Done:\n",
    "* make rmats table in a similar format to isotools differential event result tables\n",
    "* compute overlaps with differential events\n",
    "* make PCA plots of rMATS PSI values\n",
    "    * 3AS correlates good with SF3B1\n",
    "* recompute rMATS p-values with isotools statistical approach\n",
    "    * poor correlation- potentially issue with PSI values/JC vs exon counts\n",
    "  \n",
    "Todo:\n",
    "* \"Ideal\" mode: Isotools transcripts with GENCODE combined?\n",
    "    * gtf+ events\n",
    "* how to copute PSI values? exon count vs junction counts?\n",
    "    * affects PCA and statistical test. \n",
    "    * look at correlation with provided PSI values - \n",
    "        * is JC only closer to provided PSI?\n",
    "        * how are provided PSI computed - can it be reproduced?\n",
    "        * if not - which events are different (and why)?        \n",
    "* PCA correlates with study\n",
    "    * run for large studies individually\n",
    "* Model for mutation effect\n",
    "    * first define subset of commonly affected 3'as events\n"
   ]
  },
  {
   "cell_type": "code",
   "execution_count": 1,
   "metadata": {},
   "outputs": [
    {
     "name": "stderr",
     "output_type": "stream",
     "text": [
      "INFO:This is isotools version 0.3.2\n"
     ]
    }
   ],
   "source": [
    "import logging\n",
    "import os\n",
    "import pandas as pd\n",
    "import numpy as np\n",
    "from glob import glob\n",
    "import matplotlib.pyplot as plt\n",
    "import pathlib\n",
    "from  isotools import Transcriptome\n",
    "import isotools\n",
    "logger=logging.getLogger('isotools')\n",
    "logging.basicConfig(format='%(levelname)s:%(message)s', level=logging.INFO)\n",
    "logger.info(f'This is isotools version {isotools.__version__}')\n"
   ]
  },
  {
   "cell_type": "code",
   "execution_count": 2,
   "metadata": {},
   "outputs": [],
   "source": [
    "path='/project/42/pacbio/golong'\n",
    "date='2022_12'\n",
    "project='golong_all'\n",
    "out_path=f'{path}/06-isotools/{project}/results_{date}'\n",
    "table_path=f'{out_path}/04_differential_splicing/tables_rmats'\n",
    "plot_path=f'{out_path}/04_differential_splicing/plots_rmats'\n",
    "pathlib.Path(plot_path).mkdir(parents=True, exist_ok=True)\n",
    "pathlib.Path(table_path).mkdir(parents=True, exist_ok=True)\n",
    "\n",
    "ref_fn=f'{path}/../references/gencode/gencode.v36.chr_patch_hapl_scaff.annotation_sorted'\n",
    "genome_fn=f'{path}/../references/gencode/GRCh38.p13.genome.fa'"
   ]
  },
  {
   "cell_type": "code",
   "execution_count": 3,
   "metadata": {},
   "outputs": [],
   "source": [
    "# set plot parameters\n",
    "plt.rcParams['axes.unicode_minus']=False\n",
    "plt.rcParams[\"font.size\"]=8\n",
    "plt.rcParams[\"font.family\"]='sans-serif'#\"Times New Roman\"\n",
    "plt.rcParams['figure.dpi']=200\n"
   ]
  },
  {
   "cell_type": "code",
   "execution_count": 4,
   "metadata": {},
   "outputs": [],
   "source": [
    "samples=pd.read_csv(f'{out_path}/01_transcriptome/{project}_{date}_samples.csv').set_index('name')\n",
    "\n",
    "illu_ids=[(k,glob(f'{path}/07-star/gencode_36/*{v}*sortedByCoord.out.bam')) for k,v in samples['illumina_sample_id'].items() if v==v]\n",
    "illu_ids={v[0]:k for k,v in illu_ids if v}   "
   ]
  },
  {
   "cell_type": "code",
   "execution_count": 5,
   "metadata": {},
   "outputs": [],
   "source": [
    "# define group and sample colors\n",
    "\n",
    "groups={grpn:samples.index[samples.group==grpn].tolist() for grpn in set(samples.group)}\n",
    "group_dict={sa:gn for gn,sa_list in groups.items() for sa in sa_list}\n",
    "group_num={sa:i for i,sa in enumerate(['K562_mut','K562_wt','Nalm6_mut', 'Nalm6_wt','CLL_mut','CLL_wt', 'MDS_mut', 'MDS_wt','B-cell'])}\n",
    "\n",
    "groups['CL_wt']=[sa for gr in ['K562_wt', 'Nalm6_wt'] for sa in groups[gr]]\n",
    "groups['CL_mut']=[sa for gr in ['K562_mut', 'Nalm6_mut'] for sa in groups[gr]]\n",
    "#groups['GM12878_ENCODE']=isoseq.groups()['GM12878']\n",
    "group_colors={'CLL_mut':'#B2182B', 'CLL_wt':'#2166AC', 'MDS_mut':'#EF8A62', 'MDS_wt':'#67A9CF','CL_mut':'#FDDBC7' ,'CL_wt':'#D1E5F0','B-cell':'#543005','other':'#018571'}\n",
    "group_colors['all_mut']=group_colors['MDS_mut']\n",
    "group_colors['all_wt']=group_colors['MDS_wt']\n",
    "group_colors['reference']=group_colors['other']\n",
    "\n",
    "sample_colors={sa:group_colors[k] for sa in samples.index.tolist() for k in group_colors if sa in groups.get(k,[]) }\n",
    "sample_colors={sa:sample_colors.get(sa,'#003C30') for sa in samples.index.tolist()}\n",
    "sample_colors['reference']=group_colors['other']\n",
    "\n",
    "groups_CL={k:v for k,v in groups.items() if k[:3] in ['CL_', 'GM1']}\n",
    "groups_CLL={k:v for k,v in groups.items() if k in ['CLL_wt', 'CLL_mut', 'B-cell']}\n",
    "groups_MDS={k:v for k,v in groups.items() if k in ['MDS_wt', 'MDS_mut', 'B-cell']}\n",
    "\n",
    "group_same_colors={k:group_colors[\"all_\"+k.split(\"_\")[1]] for k in group_colors if 'wt' in k or 'mut' in k}\n",
    "group_same_colors['B-cell']=group_colors['B-cell']\n"
   ]
  },
  {
   "cell_type": "markdown",
   "metadata": {},
   "source": [
    "## Prepare the rMATS result tables"
   ]
  },
  {
   "cell_type": "code",
   "execution_count": 6,
   "metadata": {},
   "outputs": [
    {
     "name": "stdout",
     "output_type": "stream",
     "text": [
      "gencode\n",
      "File /project/42/pacbio/golong/06-isotools/golong_all/results_2022_12/04_differential_splicing/tables_rmats/rmats_results_CL_gencode.csv exists already\n",
      "File /project/42/pacbio/golong/06-isotools/golong_all/results_2022_12/04_differential_splicing/tables_rmats/rmats_results_CLL_gencode.csv exists already\n",
      "File /project/42/pacbio/golong/06-isotools/golong_all/results_2022_12/04_differential_splicing/tables_rmats/rmats_results_MDS_gencode.csv exists already\n",
      "isotools\n",
      "File /project/42/pacbio/golong/06-isotools/golong_all/results_2022_12/04_differential_splicing/tables_rmats/rmats_results_CL_isotools.csv exists already\n",
      "File /project/42/pacbio/golong/06-isotools/golong_all/results_2022_12/04_differential_splicing/tables_rmats/rmats_results_CLL_isotools.csv exists already\n",
      "File /project/42/pacbio/golong/06-isotools/golong_all/results_2022_12/04_differential_splicing/tables_rmats/rmats_results_MDS_isotools.csv exists already\n",
      "rmats\n",
      "File /project/42/pacbio/golong/06-isotools/golong_all/results_2022_12/04_differential_splicing/tables_rmats/rmats_results_CL_rmats.csv exists already\n",
      "File /project/42/pacbio/golong/06-isotools/golong_all/results_2022_12/04_differential_splicing/tables_rmats/rmats_results_CLL_rmats.csv exists already\n",
      "File /project/42/pacbio/golong/06-isotools/golong_all/results_2022_12/04_differential_splicing/tables_rmats/rmats_results_MDS_rmats.csv exists already\n",
      "isotools_novel\n",
      "skipping CL isotools_novel (/project/42/pacbio/golong/08-rMATS/isotools_golong_all/CL)\n",
      "skipping CLL isotools_novel (/project/42/pacbio/golong/08-rMATS/isotools_golong_all/CLL)\n",
      "File /project/42/pacbio/golong/06-isotools/golong_all/results_2022_12/04_differential_splicing/tables_rmats/rmats_results_MDS_isotools_novel.csv exists already\n",
      "rmats_novel\n",
      "skipping CL rmats_novel (/project/42/pacbio/golong/08-rMATS/gencode_36_rMATS_novel/CL)\n",
      "skipping CLL rmats_novel (/project/42/pacbio/golong/08-rMATS/gencode_36_rMATS_novel/CLL)\n",
      "skipping MDS rmats_novel (/project/42/pacbio/golong/additional_samples/MDS/rmats/gencode_36_rMATS_novel)\n"
     ]
    }
   ],
   "source": [
    "#step 1: read the rmats result table\n",
    "import statsmodels.stats.multitest as multi\n",
    "\n",
    "rmats_groups={'SF3B1':{'CL':{}, 'CLL':{}, 'MDS':{}}}\n",
    "type_dict={'ES':'SE', 'IR':'RI', 'ME':'MXE', '3AS':'A3SS', '5AS':'A5SS'}\n",
    "type_dict2={v:k for k,v in type_dict.items()}\n",
    "cols={'ME':['upstreamEE','downstreamES'],  \n",
    "      'IR':['upstreamEE','downstreamES'], \n",
    "      'ES':['upstreamEE','downstreamES'],\n",
    "      '3AS+':['flankingEE','shortES'],\n",
    "      '3AS-':['shortEE','flankingES'],\n",
    "      '5AS+':['shortEE','flankingES'],\n",
    "      '5AS-':['flankingEE','shortES']}\n",
    "\n",
    "\n",
    "colnames=['gene','gene_id','chrom','strand', 'start', 'end']\n",
    "\n",
    "for grpn in rmats_groups['SF3B1']:\n",
    "    rmats_path=f'{path}/08-rMATS/gencode_36/{grpn}' if grpn!='MDS' else f'{path}/additional_samples/MDS/rmats/gencode_36'\n",
    "\n",
    "    with open(f'{rmats_path}/b1.txt', \"r\") as b1:\n",
    "        b1=[illu_ids.get(file,os.path.basename(file).split('Aligned')[0]) for file in b1.read().rstrip().split(',')]\n",
    "    with open(f'{rmats_path}/b2.txt', \"r\") as b2:\n",
    "        b2=[illu_ids.get(file,os.path.basename(file).split('Aligned')[0]) for file in b2.read().rstrip().split(',')]\n",
    "    rmats_groups['SF3B1'][grpn]={f'{grpn}_{gt}':sa for gt,sa in (('mut',b1), ('wt',b2))}\n",
    "        \n",
    "\n",
    "for mode in ['gencode', 'isotools', 'rmats','isotools_novel', 'rmats_novel']:\n",
    "    print(mode)    \n",
    "    rmats_path={'gencode':'gencode_36', 'isotools':'gencode_36_golong_all', 'rmats':'gencode_36_rMATS', 'isotools_novel':'isotools_golong_all', 'rmats_novel':'gencode_36_rMATS_novel'}\n",
    "    rmats_path={grpn:f'{path}/08-rMATS/{rmats_path[mode]}/{grpn}' if grpn!='MDS' else f'{path}/additional_samples/MDS/rmats/{rmats_path[mode]}'  for grpn in ('CL','CLL','MDS')}\n",
    "    for grpn in ('CL','CLL','MDS'):\n",
    "        #check if file exists\n",
    "        table_file_path = f'{table_path}/rmats_results_{grpn}_{mode}.csv'\n",
    "        if os.path.exists(table_file_path):\n",
    "            print(f\"File {table_file_path} exists already\")\n",
    "            continue\n",
    "        rmats_event={}\n",
    "        try:\n",
    "            with open(f'{rmats_path[grpn]}/b1.txt', \"r\") as b1:\n",
    "                b1=[illu_ids.get(file,os.path.basename(file).split('Aligned')[0]) for file in b1.read().rstrip().split(',')]\n",
    "            with open(f'{rmats_path[grpn]}/b2.txt', \"r\") as b2:\n",
    "                b2=[illu_ids.get(file,os.path.basename(file).split('Aligned')[0]) for file in b2.read().rstrip().split(',')]\n",
    "        \n",
    "            for effect in ['A3SS', 'A5SS', 'MXE', 'RI', 'SE']:\n",
    "                tab=pd.read_csv(f'{rmats_path[grpn]}/{effect}.MATS.JCEC.txt', sep='\\t')\n",
    "                print(f'{grpn} {effect} has {sum((tab.FDR<.1)&(abs(tab.IncLevelDifference)>.1))}/{len(tab)} differential events')\n",
    "                effect2=type_dict2[effect]\n",
    "                if effect2 in cols:                \n",
    "                    event_cols=['geneSymbol','GeneID','chr','strand']+cols[effect2]                \n",
    "                    rmats_event[effect]=tab[event_cols]\n",
    "                    rmats_event[effect].columns=colnames\n",
    "                else:\n",
    "                    event_cols_p=['geneSymbol','GeneID','chr','strand']+cols[effect2+'+']     \n",
    "                    event_cols_m=['geneSymbol','GeneID','chr','strand']+cols[effect2+'-']\n",
    "                    eventtab_p=tab.loc[tab.strand=='+',event_cols_p]\n",
    "                    eventtab_m=tab.loc[tab.strand=='-',event_cols_m]\n",
    "                    eventtab_p.columns=colnames\n",
    "                    eventtab_m.columns=colnames\n",
    "                    rmats_event[effect]=pd.concat([eventtab_p, eventtab_m]).sort_index()\n",
    "                rmats_event[effect]=rmats_event[effect].assign(splice_type=effect2)\n",
    "                rmats_psi=pd.concat([tab[col].str.split(',', expand=True).replace('NA','NaN').astype(float) for col in ['IncLevel1', 'IncLevel2']], axis=1)\n",
    "                rmats_psi.columns=b1+b2\n",
    "                rmats_k=pd.concat([tab[col].str.split(',', expand=True).replace('NA','NaN').astype(float) for col in ['IJC_SAMPLE_1', 'IJC_SAMPLE_2']], axis=1)\n",
    "                rmats_k.columns=[f'{sa}_{grpn}_{gt}_in_cov' for saL, gt in ((b1,'mut'),(b2,'wt')) for sa in saL]\n",
    "                rmats_n=pd.concat([tab[col].str.split(',', expand=True).replace('NA','NaN').astype(float) for col in ['SJC_SAMPLE_1', 'SJC_SAMPLE_2']], axis=1)\n",
    "                rmats_n.columns=[f'{sa}_{grpn}_{gt}_total_cov' for saL, gt in ((b1,'mut'),(b2,'wt')) for sa in saL]\n",
    "                rmats_n+=rmats_k.values\n",
    "                rmats_counts=pd.concat([rmats_k,rmats_n], axis=1)\n",
    "                rmats_counts=rmats_counts[[col for csa in zip(rmats_k.columns,rmats_n.columns) for col in csa]]\n",
    "                rmats_stats=pd.concat([tab['PValue'],tab['FDR']]+[tab[col].str.split(',', expand=True).replace('NA','NaN').astype(float).mean(1) for col in ['IncLevel1', 'IncLevel2']], axis=1)\n",
    "                rmats_stats.columns=['pvalue', 'padj_rmats']+[f'{grpn}_{gt}_PSI' for gt in ('mut','wt')]\n",
    "                rmats_event[effect]=pd.concat([rmats_event[effect], rmats_stats,rmats_counts ], axis=1)\n",
    "        except FileNotFoundError:\n",
    "            print(f'skipping {grpn} {mode} ({rmats_path[grpn]})')\n",
    "            continue\n",
    "        rmats_results=pd.concat(rmats_event.values())\n",
    "        mask = np.isfinite(rmats_results['pvalue'])\n",
    "        padj = np.empty(mask.shape)\n",
    "        padj.fill(np.nan)\n",
    "        padj[mask] = multi.multipletests(rmats_results.loc[mask, 'pvalue'], method='fdr_bh')[1]\n",
    "        rmats_results.insert(7, 'padj', padj)\n",
    "        rmats_results=rmats_results.sort_values('pvalue')\n",
    "        rmats_results.to_csv( f'{table_path}/rmats_results_{grpn}_{mode}.csv')\n",
    "        rmats_results.loc[rmats_results.padj<.1].to_csv( f'{table_path}/rmats_results_{grpn}_{mode}_sig.csv')\n",
    "        \n",
    "    \n"
   ]
  },
  {
   "cell_type": "code",
   "execution_count": 7,
   "metadata": {},
   "outputs": [
    {
     "name": "stdout",
     "output_type": "stream",
     "text": [
      "isotools_novel\n",
      "File rmats_results_MDS_isotools_novel_reeval.csv exists already\n",
      "gencode\n",
      "File rmats_results_MDS_gencode_reeval.csv exists already\n",
      "File rmats_results_CL_gencode_reeval.csv exists already\n",
      "File rmats_results_CLL_gencode_reeval.csv exists already\n",
      "isotools\n",
      "File rmats_results_MDS_isotools_reeval.csv exists already\n",
      "File rmats_results_CL_isotools_reeval.csv exists already\n",
      "File rmats_results_CLL_isotools_reeval.csv exists already\n",
      "rmats\n",
      "File rmats_results_MDS_rmats_reeval.csv exists already\n",
      "File rmats_results_CL_rmats_reeval.csv exists already\n",
      "File rmats_results_CLL_rmats_reeval.csv exists already\n",
      "rmats_novel\n"
     ]
    }
   ],
   "source": [
    "# recompute p-values\n",
    "min_alt_fraction=.05\n",
    "from isotools._transcriptome_stats import betabinom_lr_test as test\n",
    "from tqdm import tqdm\n",
    "import statsmodels.stats.multitest as multi\n",
    "from tqdm import tqdm\n",
    "for mode in ['isotools_novel','gencode', 'isotools', 'rmats', 'rmats_novel']:\n",
    "\n",
    "    print(mode)    \n",
    "    for grpn in ('MDS','CL','CLL'):\n",
    "        #check if file exists\n",
    "        if os.path.exists(f'{table_path}/rmats_results_{grpn}_{mode}_reeval.csv'):\n",
    "            print(f\"File rmats_results_{grpn}_{mode}_reeval.csv exists already\")\n",
    "            continue\n",
    "        table_file_path = f'{table_path}/rmats_results_{grpn}_{mode}.csv'\n",
    "        try:\n",
    "            res_rmats=pd.read_csv(table_file_path)\n",
    "        except FileNotFoundError:\n",
    "            continue\n",
    "        \n",
    "        rmats_groups=[c.replace('_total_cov','').rsplit('_',2) for c in res_rmats.columns if 'total_cov' in c]\n",
    "        rmats_groups={f'{grpn}_{gt}':[sa[0].strip('_') for sa in rmats_groups if sa[1]==grpn and sa[2] ==gt] for gt in ('wt','mut')}\n",
    "        k = res_rmats[[c for c in res_rmats.columns if c.endswith('_in_cov') ]]\n",
    "        n = res_rmats[[c for c in res_rmats.columns if c.endswith('_total_cov') ]]\n",
    "        n.columns = [c.rsplit('_',5)[0] for c in n.columns]\n",
    "        k.columns = [c.rsplit('_',5)[0] for c in k.columns]\n",
    "        nsum = n.sum(1)\n",
    "        ksum = k.sum(1)\n",
    "        covered = (nsum >= min_total) & (min_alt_fraction < ksum / nsum) & (ksum / nsum < 1 - min_alt_fraction)\n",
    "        covered=covered.index[covered]\n",
    "        pvals=[]\n",
    "        params=[]\n",
    "        for idx in tqdm(covered):\n",
    "            k_i=[k.loc[idx,grp] for grp in rmats_groups.values()]\n",
    "            n_i=[n.loc[idx,grp] for grp in rmats_groups.values()]\n",
    "            pval_i, params_i = test(k_i[:2], n_i[:2])\n",
    "            pvals.append(pval_i)\n",
    "            params.append(params_i)\n",
    "            \n",
    "        params=pd.DataFrame(params, columns=[f'{grname}_{what}' for grname in list(rmats_groups)+['total']  for what in ('PSI', 'disp')], index=covered)\n",
    "        res_rmats['nbinom_pval']=np.nan\n",
    "        res_rmats.loc[covered, 'nbinom_pval']=pvals\n",
    "        res_rmats=pd.concat([res_rmats, params], axis=1)\n",
    "        res_rmats.to_csv( f'{table_path}/rmats_results_{grpn}_{mode}_reeval.csv')"
   ]
  },
  {
   "cell_type": "code",
   "execution_count": 8,
   "metadata": {},
   "outputs": [],
   "source": [
    "mode='isotools_novel'\n",
    "grpn='MDS'\n",
    "res_rmats=pd.read_csv(f'{table_path}/rmats_results_{grpn}_{mode}_reeval.csv')"
   ]
  },
  {
   "cell_type": "code",
   "execution_count": 20,
   "metadata": {},
   "outputs": [
    {
     "data": {
      "text/plain": [
       "Text(0, 0.5, 'log10 nbinom pval')"
      ]
     },
     "execution_count": 20,
     "metadata": {},
     "output_type": "execute_result"
    },
    {
     "data": {
      "image/png": "[encoded data removed]",
      "text/plain": [
       "<Figure size 1280x960 with 1 Axes>"
      ]
     },
     "metadata": {},
     "output_type": "display_data"
    }
   ],
   "source": [
    "from matplotlib.colors import LogNorm\n",
    "res_rmats.columns.tolist()[-20:]\n",
    "#pvalue\n",
    "sel=(res_rmats.pvalue==res_rmats.pvalue) & (res_rmats.nbinom_pval==res_rmats.nbinom_pval)\n",
    "#plt.rcParams[\"figure.figsize\"] = (10,5)\n",
    "fig, ax=plt.subplots()\n",
    "hist=ax.hist2d(np.log10(res_rmats.loc[sel,'pvalue']+1e-10),np.log10(res_rmats.loc[sel,'nbinom_pval']+1e-10), 25,norm=LogNorm(),cmap='YlOrRd')\n",
    "ax.axhline(np.log10(.01), ls=\":\")\n",
    "ax.axvline(np.log10(.01), ls=\":\")\n",
    "ax.set_xlabel('log10 rMATS pval')\n",
    "ax.set_ylabel('log10 nbinom pval')\n",
    "# not a good correlation... maybe due to exon reads vs sj reads..."
   ]
  },
  {
   "cell_type": "markdown",
   "metadata": {},
   "source": [
    "## Compare to IsoTools\n",
    "\n",
    "* intersections of events\n",
    "    * all events\n",
    "    * known / novel events\n",
    "    * by splice type\n",
    "    * significant in isotools/rmats/both\n",
    "* depict as venn diagrams"
   ]
  },
  {
   "cell_type": "code",
   "execution_count": 21,
   "metadata": {},
   "outputs": [
    {
     "name": "stdout",
     "output_type": "stream",
     "text": [
      "CL gencode\n",
      "CLL gencode\n",
      "MDS gencode\n",
      "CL isotools\n",
      "CLL isotools\n",
      "MDS isotools\n",
      "CL rmats\n",
      "CLL rmats\n",
      "MDS rmats\n",
      "MDS isotools_novel\n"
     ]
    }
   ],
   "source": [
    "mode='isotools_novel'\n",
    "version='less_strict'\n",
    "min_total=50\n",
    "min_alt_fraction=.05\n",
    "event_intersect={}\n",
    "for mode in ['gencode', 'isotools', 'rmats','isotools_novel']:#, 'rmats_novel']:\n",
    "    event_intersect[mode]={}\n",
    "    results=pd.read_csv(f'{out_path}/04_differential_splicing/tables/{project}_{date}_diff_betabinomial_{version}_all.csv').set_index(['chrom','strand','start','end','splice_type']).sort_index() \n",
    "    results=results[~results.index.duplicated(keep='first')]\n",
    "    sig_isotools=results.padj<.1\n",
    "    known=~results.novel\n",
    "\n",
    "    for grpn in ('CL', 'CLL', 'MDS'):\n",
    "        try:\n",
    "            #results=pd.read_csv(f'{out_path}/04_differential_splicing/tables/{project}_{date}_diff_betabinomial_{version}_{grpn}.csv').set_index(['chrom','strand','start','end','splice_type']).sort_index() \n",
    "            rmats_results=pd.read_csv(f'{table_path}/rmats_results_{grpn}_{mode}.csv').set_index(['chrom','strand','start','end','splice_type']).sort_index() \n",
    "        except FileNotFoundError:\n",
    "            continue  \n",
    "        rmats_results=rmats_results[~rmats_results.index.duplicated(keep='first')]\n",
    "\n",
    "        print(f'{grpn} {mode}')\n",
    "        #n=rmats_results[[c for c in rmats_results.columns if '_total_cov' in c]]\n",
    "        #k=rmats_results[ [c for c in rmats_results.columns if '_in_cov' in c]]\n",
    "        #nsum = n.sum(1)\n",
    "        #ksum = k.sum(1)\n",
    "        #sel_rmats = (nsum >= min_total) & (min_alt_fraction < ksum / nsum) & (ksum / nsum < 1 - min_alt_fraction)\n",
    "        sig_rmats=rmats_results.padj<.1\n",
    "        #all\n",
    "        n=[]\n",
    "        #n=[[len(results), sum(known), sum(~known),len(rmats_results),len(results.index.intersection(rmats_results.index)),\n",
    "        #    len(results.loc[known].index.intersection(rmats_results.index)),len(results.loc[~known].index.intersection(rmats_results.index)),\n",
    "        #    sum(sig_isotools),sum(sig_isotools&known),sum(sig_isotools&~known),sum(sig_rmats),\n",
    "        #    len(results.loc[sig_isotools].index.intersection(rmats_results.index)),len(results.loc[(sig_isotools&known)].index.intersection(rmats_results.index)),len(results.loc[(sig_isotools&~known)].index.intersection(rmats_results.index)),\n",
    "        #    len(results.index.intersection(rmats_results.loc[sig_rmats].index)),\n",
    "        #    len(results.loc[sig_isotools].index.intersection(rmats_results.loc[sig_rmats].index)),len(results.loc[(sig_isotools&known)].index.intersection(rmats_results.loc[sig_rmats].index)),len(results.loc[(sig_isotools&~known)].index.intersection(rmats_results.loc[sig_rmats].index))]]\n",
    "        splicing= ['all','ME', 'IR','5AS', '3AS','ES']\n",
    "        for splice_type in splicing:\n",
    "            sel=np.ones(len(results), dtype=bool) if splice_type =='all' else results.index.get_level_values('splice_type')==splice_type\n",
    "            sel_rmats=np.ones(len(rmats_results), dtype=bool) if splice_type =='all' else rmats_results.index.get_level_values('splice_type')==splice_type\n",
    "            n.append([len(results.loc[sel]),len(results.loc[(sel & known)]),len(results.loc[(sel&~known)]),len(rmats_results.loc[sel_rmats]),\n",
    "                      len(results.loc[sel].index.intersection(rmats_results.loc[sel_rmats].index)),\n",
    "                      len(results.loc[ ( known & sel) ].index.intersection(rmats_results.loc[sel_rmats].index)),        \n",
    "                      len(results.loc[ (~known & sel) ].index.intersection(rmats_results.loc[sel_rmats].index)),        \n",
    "                      len(results.loc[(sig_isotools & sel)]), \n",
    "                      len(results.loc[(sig_isotools& known & sel)]), \n",
    "                      len(results.loc[(sig_isotools&~known & sel)]), \n",
    "                      len(rmats_results.loc[(sig_rmats & sel_rmats)]),\n",
    "                      len(results.loc[(sig_isotools & sel)].index.intersection(rmats_results.loc[sel_rmats].index)),\n",
    "                      len(results.loc[(sig_isotools& known & sel)].index.intersection(rmats_results.loc[sel_rmats].index)),\n",
    "                      len(results.loc[(sig_isotools&~known & sel)].index.intersection(rmats_results.loc[sel_rmats].index)),\n",
    "                      len(results.loc[sel].index.intersection(rmats_results.loc[(sig_rmats & sel_rmats)].index)),\n",
    "                      len(results.loc[(sig_isotools & sel)].index.intersection(rmats_results.loc[(sig_rmats & sel_rmats)].index)),\n",
    "                      len(results.loc[(sig_isotools& known & sel)].index.intersection(rmats_results.loc[(sig_rmats & sel_rmats)].index)),\n",
    "                      len(results.loc[(sig_isotools&~known & sel)].index.intersection(rmats_results.loc[(sig_rmats & sel_rmats)].index))])\n",
    "        colnames=['isoseq','isoseq_known','isoseq_novel','rmats','both','both_known','both_novel','sig_isoseq','sig_isoseq_known','sig_isoseq_novel','sig_rmats','sig_isoseq_rmats','sig_isoseq_known_rmats','sig_isoseq_novel_rmats', 'sig_rmats_isoseq', 'sig_both', 'sig_both_known', 'sig_both_novel']\n",
    "        event_intersect[mode][grpn]=pd.DataFrame(n, index=splicing, columns=colnames)\n",
    "        event_intersect[mode][grpn].to_csv(f'{table_path}/rmats_results_{grpn}_{mode}_overlap_stats.csv')"
   ]
  },
  {
   "cell_type": "code",
   "execution_count": 22,
   "metadata": {},
   "outputs": [],
   "source": [
    "plt.rcParams[\"figure.figsize\"] = (10,10)\n",
    "from matplotlib_venn import venn2\n",
    "# venn2 subsets: A/B/AB\n",
    "# venn3 subsets: A/B/AB/C/AC/AB/ABC\n",
    "sel={'all':('isoseq','rmats','both'),\n",
    "    'known':('isoseq_known','rmats','both_known'),\n",
    "    'novel':('isoseq_novel','rmats','both_novel'),\n",
    "    'isoseq_sig':('sig_isoseq_novel','rmats','sig_isoseq_rmats')}\n",
    "splicing= ['all','ME', 'IR','5AS', '3AS','ES']\n",
    "for st in splicing:\n",
    "    for which in sel:\n",
    "        fig, axs=plt.subplots(4,3)\n",
    "        for i,mode in enumerate(event_intersect):\n",
    "            for j,(grpn,tab) in enumerate(event_intersect[mode].items()):    \n",
    "                a=tab.loc[st,sel[which][0]]\n",
    "                b=tab.loc[st,sel[which][1]]\n",
    "                ab=tab.loc[st,sel[which][2]]\n",
    "                num_elem=(a-ab, b-ab, ab)\n",
    "                _=venn2(subsets = num_elem, set_labels=(\"IsoSeq\", \"RMATS\"), ax=axs[i,j])\n",
    "                axs[i,j].set_title(f'{mode} {grpn}')\n",
    "        fig.tight_layout()\n",
    "        plt.savefig(f\"{plot_path}/rmats_{st}_{which}_events_overlap_venn.pdf\")\n",
    "        plt.close(fig)"
   ]
  },
  {
   "cell_type": "markdown",
   "metadata": {},
   "source": [
    "## PCA plots"
   ]
  },
  {
   "cell_type": "code",
   "execution_count": 33,
   "metadata": {},
   "outputs": [],
   "source": [
    "#define more groups\n",
    "#labels=True\n",
    "#ideas: \n",
    "# color by \n",
    "#    sf3b1 mut\n",
    "#    readlength\n",
    "#    study\n",
    "#    tissue_type\n",
    "#    age\n",
    "#    other mutations(splicing factors)\n",
    "sample_tab=pd.read_csv('/project/42/pacbio/golong/additional_samples/MDS/20230121_ClinicalData.tsv', sep='\\t').set_index('Unnamed: 0')\n",
    "#sample_tab=pd.read_csv('/project/42/pacbio/golong/additional_samples/MDS/20230123_ClinicalData_ReducedSamples.txt', sep=' ')\n",
    "#what about these mutations\n",
    "#LUC7L2, PRPF8, SF3B1, SRSF2, U2AF1, and ZRSR2 \n",
    "for mut_gene in ['ASXL1','SF3B1_mutation','DNMT3A' ,'RUNX1', 'SRSF2', 'TET2']:\n",
    "    if mut_gene=='SF3B1_mutation':\n",
    "        mut_grp={mut:sample_tab.index[sample_tab[mut_gene]==mut].tolist() for mut in set(sample_tab[mut_gene]) if mut==mut}\n",
    "        mut_grp['wt']=sample_tab.index[sample_tab[mut_gene]!=sample_tab[mut_gene]].tolist()\n",
    "    else:\n",
    "        mut_grp={}\n",
    "        mut_grp['mut']=sample_tab.index[sample_tab[mut_gene]==sample_tab[mut_gene]].tolist()\n",
    "        mut_grp['wt']=sample_tab.index[sample_tab[mut_gene]!=sample_tab[mut_gene]].tolist()\n",
    "    rmats_groups[mut_gene]={'MDS':mut_grp}\n",
    "for cat in ('sex','Tissue','Cell_type','PHENOTYPE','disease_stage','response_to_treatment','Sequence.length'):\n",
    "    rmats_groups[cat]={'MDS':{v:sample_tab.index[sample_tab[cat]==v].tolist() for v in set(sample_tab[cat]) if v==v}}\n",
    "    #rmats_groups[cat]['MDS']['NA']=sample_tab.index[sample_tab[cat]!=sample_tab[cat]].tolist()\n",
    "\n",
    "expression_tab=pd.read_csv('/project/42/pacbio/golong/additional_samples/MDS/20230120_FPKM.txt', sep=' ')\n",
    "RBM39=pd.qcut(expression_tab.loc['ENSG00000131051.24_RBM39'], q=3, labels=['low', 'mid', 'high'])\n",
    "DCAF15=pd.qcut(expression_tab.loc['ENSG00000132017.10_DCAF15'], q=3, labels=['low', 'mid', 'high'])\n",
    "rmats_groups['RBM39_expression']={'MDS':{v:RBM39.index[RBM39==v].tolist() for v in set(RBM39) if v==v}}\n",
    "rmats_groups['DCAF15_expression']={'MDS':{v:DCAF15.index[DCAF15==v].tolist() for v in set(DCAF15) if v==v}}"
   ]
  },
  {
   "cell_type": "code",
   "execution_count": 60,
   "metadata": {},
   "outputs": [
    {
     "name": "stdout",
     "output_type": "stream",
     "text": [
      "Blast cell: r=-0.03877149970011886\n",
      "Bone marrow monocytic precursor: r=-0.4304097205037579\n",
      "Bone marrow mononuclear cells: r=0.4967463569310829\n",
      "bone marrow: r=0.24605814952173027\n",
      "CD34+: r=-0.010179295572972159\n",
      "Hematopoietic stem cells: r=0.3320544680898287\n",
      "Bone marrow granulocytic precursor: r=0.472810840817202\n",
      "peripheral blood: r=-0.5358925639377098\n"
     ]
    }
   ],
   "source": [
    "for stype in set(sample_tab['Tissue']):\n",
    "    sa_sel=sample_tab.index[sample_tab['Tissue']==stype]\n",
    "    print(f\"{stype}: r={expression_tab.loc['ENSG00000131051.24_RBM39', sa_sel].corr(expression_tab.loc['ENSG00000132017.10_DCAF15', sa_sel])}\")"
   ]
  },
  {
   "cell_type": "code",
   "execution_count": 54,
   "metadata": {},
   "outputs": [
    {
     "name": "stdout",
     "output_type": "stream",
     "text": [
      "reading isotools_novel MDS\n",
      "isotools_novel MDS BC\n",
      "isotools_novel MDS BMGP\n",
      "isotools_novel MDS BMMP\n",
      "isotools_novel MDS BMMC\n",
      "isotools_novel MDS CD34\n",
      "isotools_novel MDS HSC\n",
      "isotools_novel MDS BM\n",
      "isotools_novel MDS PB\n"
     ]
    }
   ],
   "source": [
    "#from umap import UMAP\n",
    "from sklearn.decomposition import PCA\n",
    "min_total=100\n",
    "min_alt_fraction=.1\n",
    "top_var=200\n",
    "prior_count=5\n",
    "# from sample_tab['Tissue']:\n",
    "MDS_cells={'BC':'Blast cell','BMGP':'Bone marrow granulocytic precursor', 'BMMP':'Bone marrow monocytic precursor', 'BMMC':'Bone marrow mononuclear cells', 'CD34':'CD34+', 'HSC':'Hematopoietic stem cells', 'BM':'bone marrow', 'PB':'peripheral blood'}\n",
    "grpn='CL'\n",
    "mode='rmats'\n",
    "transformed={}\n",
    "effect='A3SS'#'A3SS', 'A5SS', 'MXE', 'RI', 'SE'\n",
    "#for mode in ['gencode', 'isotools', 'rmats','isotools_novel', 'rmats_novel']:\n",
    "#    transformed[mode]={}\n",
    "#    for grpn in ('CL','CLL','MDS'):\n",
    "mode, grpn='isotools_novel','MDS'\n",
    "transformed.setdefault(mode, {})\n",
    "print(f'reading {mode} {grpn}')\n",
    "try:\n",
    "    rmats_results=pd.read_csv(f'{table_path}/rmats_results_{grpn.split(\"_\")[0]}_{mode}.csv')\n",
    "except FileNotFoundError:\n",
    "    #continue\n",
    "    raise\n",
    "for short, celltype in MDS_cells.items():\n",
    "        transformed[mode][f'{grpn}_{short}']={}\n",
    "        print(f'{mode} {grpn} {short}')\n",
    "        for effect in ['all']+list(set(rmats_results.splice_type)):            \n",
    "            sel= rmats_results.index if effect == 'all' else rmats_results.splice_type==effect\n",
    "            sel_sa=sample_tab.index[sample_tab['Tissue']==celltype]\n",
    "            n=rmats_results.loc[sel, [c for c in rmats_results.columns if '_total_cov' in c and c.split('_')[0] in sel_sa]]\n",
    "            k=rmats_results.loc[sel, [c for c in rmats_results.columns if '_in_cov' in c and c.split('_')[0] in sel_sa]]\n",
    "            nsum = n.sum(1)\n",
    "            ksum = k.sum(1)\n",
    "            covered = (nsum >= min_total) & (min_alt_fraction < ksum / nsum) & (ksum / nsum < 1 - min_alt_fraction)\n",
    "            n = n.loc[covered]\n",
    "            k = k.loc[covered]\n",
    "            # compute the proportions\n",
    "            scaled_mean = k.sum(1) / n.sum(1) * prior_count\n",
    "            p = ((k.values + scaled_mean.values[:, np.newaxis]) / (n.values + prior_count)).T\n",
    "            # tab=rmats_psi[mode][grpn][effect] #heaps of nan\n",
    "            # plt.scatter(tab.loc[covered,'K03'], p[0,:]) #upper triangle\n",
    "            topvar = p[:, p.var(0).argsort()[-top_var:]]  # sort from low to high var\n",
    "            embedding = PCA(n_components=4).fit(topvar)\n",
    "            pca_df=pd.DataFrame(embedding.transform(topvar), index=[c.split('_')[0] for c in n.columns])\n",
    "            pca_df.columns=[f'PC{i+1}' for i in pca_df.columns]\n",
    "            pca_df.to_csv(f'{table_path}/rmats_PCA_{grpn}_{short}_{mode}.csv')\n",
    "            transformed[mode][f'{grpn}_{short}'][effect] = pca_df\n",
    "      "
   ]
  },
  {
   "cell_type": "code",
   "execution_count": 55,
   "metadata": {},
   "outputs": [
    {
     "name": "stdout",
     "output_type": "stream",
     "text": [
      "isotools_novel MDS_BC\n",
      "isotools_novel MDS_BMGP\n",
      "isotools_novel MDS_BMMP\n",
      "isotools_novel MDS_BMMC\n",
      "isotools_novel MDS_CD34\n",
      "isotools_novel MDS_HSC\n",
      "isotools_novel MDS_BM\n",
      "isotools_novel MDS_PB\n"
     ]
    }
   ],
   "source": [
    "\n",
    "pt_size=20\n",
    "plot_components= np.array(['PC1','PC2'])#,np.array([3,4]))\n",
    "\n",
    "for mode in transformed:\n",
    "    for grpn in transformed[mode]:\n",
    "        print(f'{mode} {grpn}')\n",
    "        for col_scheme in rmats_groups:\n",
    "            if grpn.split('_')[0] not in rmats_groups[col_scheme]:\n",
    "                continue\n",
    "\n",
    "            for effect in transformed[mode][grpn]:\n",
    "                labels=len(transformed[mode][grpn][effect])<100\n",
    "                fig, ax = plt.subplots()\n",
    "                for i,(gr,sa_all) in enumerate(rmats_groups[col_scheme][grpn.split('_')[0]].items()):\n",
    "                    sa=[s for s in sa_all if s in transformed[mode][grpn][effect].index]\n",
    "                    ax.scatter(\n",
    "                        transformed[mode][grpn][effect].loc[sa, plot_components[0]],\n",
    "                        transformed[mode][grpn][effect].loc[sa, plot_components[1]],\n",
    "                        c=group_colors.get(gr,f'C{i}'), label=gr, s=pt_size)\n",
    "                    if labels:\n",
    "                        for idx, (x, y) in transformed[mode][grpn][effect][plot_components].iterrows():\n",
    "                            if idx in sa:\n",
    "                                ax.text(x, y, s=idx)\n",
    "                ax.set_title(f'RNAseq splice event PCA {grpn} {effect}(rmats {mode})')\n",
    "                ax.set_xlabel(plot_components[0])\n",
    "                ax.set_ylabel(plot_components[1])\n",
    "                ax.legend()\n",
    "                fig.savefig(f'{plot_path}/{project}_{date}_PCA_rmats_{grpn}_{effect}_{mode}_{\"_\".join([pc[2:] for pc in plot_components])}_{col_scheme}_top{top_var}.pdf')\n",
    "\n",
    "                plt.close(fig)\n",
    "            \n"
   ]
  },
  {
   "cell_type": "markdown",
   "metadata": {},
   "source": [
    "## UMAP"
   ]
  },
  {
   "cell_type": "code",
   "execution_count": 116,
   "metadata": {},
   "outputs": [
    {
     "name": "stderr",
     "output_type": "stream",
     "text": [
      "2023-01-26 14:12:25.678911: I tensorflow/core/platform/cpu_feature_guard.cc:193] This TensorFlow binary is optimized with oneAPI Deep Neural Network Library (oneDNN) to use the following CPU instructions in performance-critical operations:  AVX AVX2 FMA\n",
      "To enable them in other operations, rebuild TensorFlow with the appropriate compiler flags.\n",
      "2023-01-26 14:12:26.206402: E tensorflow/stream_executor/cuda/cuda_blas.cc:2981] Unable to register cuBLAS factory: Attempting to register factory for plugin cuBLAS when one has already been registered\n"
     ]
    },
    {
     "name": "stdout",
     "output_type": "stream",
     "text": [
      "gencode MDS A3SS\n",
      "gencode MDS A5SS\n",
      "gencode MDS MXE\n",
      "gencode MDS RI\n",
      "gencode MDS SE\n",
      "isotools MDS A3SS\n",
      "isotools MDS A5SS\n",
      "isotools MDS MXE\n",
      "isotools MDS RI\n",
      "isotools MDS SE\n",
      "rmats MDS A3SS\n",
      "rmats MDS A5SS\n",
      "rmats MDS MXE\n",
      "rmats MDS RI\n",
      "rmats MDS SE\n"
     ]
    }
   ],
   "source": [
    "from umap import UMAP\n",
    "min_total=100\n",
    "min_alt_fraction=.1\n",
    "top_var=500\n",
    "prior_count=5\n",
    "\n",
    "\n",
    "umap={}\n",
    "\n",
    "for mode in rmats_n:\n",
    "    umap[mode]={}\n",
    "    grpn='MDS'    \n",
    "    for effect in rmats_n[mode][grpn]:\n",
    "        print(f'{mode} {grpn} {effect}')\n",
    "        n=rmats_n[mode][grpn][effect] \n",
    "        k=rmats_k[mode][grpn][effect] \n",
    "        nsum = n.sum(1)\n",
    "        ksum = k.sum(1)\n",
    "        covered = (nsum >= min_total) & (min_alt_fraction < ksum / nsum) & (ksum / nsum < 1 - min_alt_fraction)\n",
    "        n = n.loc[covered]\n",
    "        k = k.loc[covered]\n",
    "        # compute the proportions\n",
    "        scaled_mean = k.sum(1) / n.sum(1) * prior_count\n",
    "        p = ((k.values + scaled_mean.values[:, np.newaxis]) / (n.values + prior_count)).T\n",
    "        # tab=rmats_psi[mode][grpn][effect] #heaps of nan\n",
    "        # plt.scatter(tab.loc[covered,'K03'], p[0,:]) #upper triangle\n",
    "        topvar = p[:, p.var(0).argsort()[-top_var:]]  # sort from low to high var\n",
    "        embedding = UMAP().fit(topvar)\n",
    "        umap[mode][effect] = pd.DataFrame(embedding.transform(topvar), index=n.columns)"
   ]
  },
  {
   "cell_type": "code",
   "execution_count": 117,
   "metadata": {},
   "outputs": [],
   "source": [
    "#labels=True\n",
    "pt_size=20\n",
    "plot_components=np.array([1,2])\n",
    "for mode in rmats_n:\n",
    "    grpn='MDS'\n",
    "    for effect in rmats_n[mode][grpn]:\n",
    "        labels=len(transformed[mode][grpn][effect])<100\n",
    "        fig, ax = plt.subplots()\n",
    "\n",
    "        for gr,sa in zip(['all_wt', 'all_mut'],rmats_groups['SF3B1'][grpn]):\n",
    "            ax.scatter(\n",
    "                umap[mode][effect].loc[sa, plot_components[0] - 1],\n",
    "                umap[mode][effect].loc[sa, plot_components[1] - 1],\n",
    "                c=group_colors[gr], label=gr, s=pt_size)\n",
    "        if labels:\n",
    "            for idx, (x, y) in umap[mode][effect][plot_components - 1].iterrows():\n",
    "                ax.text(x, y, s=idx)\n",
    "        ax.set_title(f'RNAseq splice event PCA {grpn} {effect}(rmats {mode})')\n",
    "        ax.set_xlabel(f'PC{plot_components[0]}')\n",
    "        ax.set_ylabel(f'PC{plot_components[1]}')\n",
    "        fig.savefig(f'{plot_path}/{project}_{date}_UMAP_rmats_{grpn}_{effect}_{mode}_{\"_\".join(plot_components.astype(str))}.pdf') \n",
    "        plt.close(fig)\n"
   ]
  },
  {
   "cell_type": "markdown",
   "metadata": {},
   "source": [
    "## Statistical test\n",
    "apply the betabinomial likelihood ratio test to rMATS"
   ]
  },
  {
   "cell_type": "code",
   "execution_count": null,
   "metadata": {},
   "outputs": [
    {
     "name": "stdout",
     "output_type": "stream",
     "text": [
      "gencode CL A3SS\n"
     ]
    },
    {
     "name": "stderr",
     "output_type": "stream",
     "text": [
      "100%|██████████| 10328/10328 [37:10<00:00,  4.63it/s] \n"
     ]
    },
    {
     "name": "stdout",
     "output_type": "stream",
     "text": [
      "gencode CL A5SS\n"
     ]
    },
    {
     "name": "stderr",
     "output_type": "stream",
     "text": [
      "100%|██████████| 9312/9312 [34:23<00:00,  4.51it/s]\n"
     ]
    },
    {
     "name": "stdout",
     "output_type": "stream",
     "text": [
      "gencode CL MXE\n"
     ]
    },
    {
     "name": "stderr",
     "output_type": "stream",
     "text": [
      "100%|██████████| 6268/6268 [21:42<00:00,  4.81it/s]\n"
     ]
    },
    {
     "name": "stdout",
     "output_type": "stream",
     "text": [
      "gencode CL RI\n"
     ]
    },
    {
     "name": "stderr",
     "output_type": "stream",
     "text": [
      " 23%|██▎       | 3470/15256 [12:38<43:33,  4.51it/s]  "
     ]
    }
   ],
   "source": [
    "from isotools._transcriptome_stats import betabinom_lr_test as test\n",
    "from tqdm import tqdm\n",
    "import statsmodels.stats.multitest as multi\n",
    "\n",
    "mode='gencode'\n",
    "grpn='CLL'\n",
    "effect='A3SS'\n",
    "\n",
    "for mode in ['gencode', 'isotools', 'rmats']:\n",
    "    for grpn in rmats_event[mode]:\n",
    "        for effect in ['A3SS', 'A5SS', 'MXE', 'RI', 'SE']:\n",
    "            print(f'{mode} {grpn} {effect}')\n",
    "            pvals=[]\n",
    "            params=[]\n",
    "            sa_groups=[rmats_groups['SF3B1'][grpn][f'{grpn}_{grp}'] for grp in ('mut','wt')]\n",
    "            for idx in tqdm(rmats_n[mode][grpn][effect].index):\n",
    "                x=[rmats_k[mode][grpn][effect].loc[idx,grp] for grp in sa_groups]\n",
    "                n=[rmats_n[mode][grpn][effect].loc[idx,grp] for grp in sa_groups]\n",
    "                pval_i, params_i = test(x[:2], n[:2])\n",
    "                pvals.append(pval_i)\n",
    "                params.append(params_i)\n",
    "\n",
    "            grpnames=[f'{grpn}_{grp}' for grp in ('mut','wt')]+['total']\n",
    "            test_results=pd.DataFrame(params, columns=[gn + part for gn in grpnames for part in ['_PSI', '_disp']])\n",
    "            test_results.insert(6, 'pvalue', pvals)\n",
    "            mask = np.isfinite(test_results['pvalue'])\n",
    "            padj = np.empty(mask.shape)\n",
    "            padj.fill(np.nan)\n",
    "            padj[mask] = multi.multipletests(test_results.loc[mask, 'pvalue'], method='fdr_bh')[1]\n",
    "            test_results.insert(7, 'padj', padj)\n",
    "            test_results=pd.concat([rmats_event[mode][grpn][effect], test_results],axis=1)\n",
    "            test_results.sort_values('pvalue').to_csv(f'{table_path}/rmats_betabinomial_{grpn}_{mode}_{effect}.csv')\n",
    "            test_results[test_results.padj<.1].sort_values('pvalue').to_csv(f'{table_path}/rmats_betabinomial_{grpn}_{mode}_{effect}_sig.csv')"
   ]
  },
  {
   "cell_type": "code",
   "execution_count": 1,
   "metadata": {},
   "outputs": [
    {
     "ename": "NameError",
     "evalue": "name 'test_results' is not defined",
     "output_type": "error",
     "traceback": [
      "\u001b[0;31m---------------------------------------------------------------------------\u001b[0m",
      "\u001b[0;31mNameError\u001b[0m                                 Traceback (most recent call last)",
      "Cell \u001b[0;32mIn [1], line 1\u001b[0m\n\u001b[0;32m----> 1\u001b[0m \u001b[43mtest_results\u001b[49m\n",
      "\u001b[0;31mNameError\u001b[0m: name 'test_results' is not defined"
     ]
    }
   ],
   "source": [
    "test_results"
   ]
  },
  {
   "cell_type": "code",
   "execution_count": 204,
   "metadata": {},
   "outputs": [
    {
     "data": {
      "text/plain": [
       "79"
      ]
     },
     "execution_count": 204,
     "metadata": {},
     "output_type": "execute_result"
    }
   ],
   "source": [
    "sum(test_results['padj']<.1)"
   ]
  },
  {
   "cell_type": "code",
   "execution_count": null,
   "metadata": {},
   "outputs": [],
   "source": [
    "len(test_results)"
   ]
  },
  {
   "cell_type": "code",
   "execution_count": null,
   "metadata": {},
   "outputs": [],
   "source": []
  }
 ],
 "metadata": {
  "kernelspec": {
   "display_name": "Python 3 (ipykernel)",
   "language": "python",
   "name": "python3"
  },
  "language_info": {
   "codemirror_mode": {
    "name": "ipython",
    "version": 3
   },
   "file_extension": ".py",
   "mimetype": "text/x-python",
   "name": "python",
   "nbconvert_exporter": "python",
   "pygments_lexer": "ipython3",
   "version": "3.10.8"
  }
 },
 "nbformat": 4,
 "nbformat_minor": 4
}
